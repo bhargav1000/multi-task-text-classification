{
 "cells": [
  {
   "cell_type": "markdown",
   "metadata": {},
   "source": [
    "# 4. Random Forest"
   ]
  },
  {
   "cell_type": "markdown",
   "metadata": {},
   "source": [
    "### i. Explain the MTL strategy of loss combination in Q5(part III) be used with a Random Forest."
   ]
  },
  {
   "cell_type": "markdown",
   "metadata": {},
   "source": [
    "**In the MTL (Multi-Task Learning) strategy presented in our code, the loss combination is specific to neural networks and gradient-based optimization. Random Forest, being a tree-based model, does not have a direct way to combine losses from multiple tasks in the same manner as neural networks.**\n",
    "\n",
    "**However, we can use an ensemble of Random Forest models, one for each task, and train them separately on their respective tasks. After training, we can combine their predictions in a weighted manner to make final predictions. The weights can be determined through cross-validation or by optimizing some performance metric on a validation set. Note that this approach is not MTL in the traditional sense, but rather an ensemble method that attempts to leverage the strengths of multiple models to improve the overall performance.**"
   ]
  },
  {
   "cell_type": "markdown",
   "metadata": {},
   "source": [
    "### ii. Use the augmented dataset D1 train obtained in Q3(Part III) before to train a Random Forest for prediction of label and fit using label^2"
   ]
  },
  {
   "cell_type": "code",
   "execution_count": 1,
   "metadata": {
    "execution": {
     "iopub.execute_input": "2023-04-15T06:03:00.067516Z",
     "iopub.status.busy": "2023-04-15T06:03:00.067154Z",
     "iopub.status.idle": "2023-04-15T06:03:00.072760Z",
     "shell.execute_reply": "2023-04-15T06:03:00.071735Z",
     "shell.execute_reply.started": "2023-04-15T06:03:00.067483Z"
    }
   },
   "outputs": [],
   "source": [
    "import pandas as pd\n",
    "import numpy as np\n",
    "from sklearn.ensemble import RandomForestClassifier\n",
    "from sklearn.metrics import classification_report, f1_score, confusion_matrix, ConfusionMatrixDisplay\n",
    "from sklearn.model_selection import train_test_split\n",
    "from sklearn.feature_extraction.text import TfidfVectorizer"
   ]
  },
  {
   "cell_type": "code",
   "execution_count": 2,
   "metadata": {
    "execution": {
     "iopub.execute_input": "2023-04-15T05:57:42.813692Z",
     "iopub.status.busy": "2023-04-15T05:57:42.812981Z",
     "iopub.status.idle": "2023-04-15T05:57:42.833458Z",
     "shell.execute_reply": "2023-04-15T05:57:42.832545Z",
     "shell.execute_reply.started": "2023-04-15T05:57:42.813654Z"
    }
   },
   "outputs": [],
   "source": [
    "# Read the augmented dataset\n",
    "d1_train = pd.read_csv('d1_train_augmented.csv')\n",
    "d1_val = pd.read_csv('d1_val_augmented.csv')"
   ]
  },
  {
   "cell_type": "code",
   "execution_count": 3,
   "metadata": {
    "execution": {
     "iopub.execute_input": "2023-04-15T06:01:02.822730Z",
     "iopub.status.busy": "2023-04-15T06:01:02.822336Z",
     "iopub.status.idle": "2023-04-15T06:01:02.829843Z",
     "shell.execute_reply": "2023-04-15T06:01:02.828686Z",
     "shell.execute_reply.started": "2023-04-15T06:01:02.822684Z"
    }
   },
   "outputs": [],
   "source": [
    "# Preprocessing the data for further use\n",
    "tfidf_vectorizer = TfidfVectorizer()\n",
    "X_train = tfidf_vectorizer.fit_transform(d1_train['text'])\n",
    "y_train = d1_train['disaster_label']"
   ]
  },
  {
   "cell_type": "code",
   "execution_count": 4,
   "metadata": {
    "execution": {
     "iopub.execute_input": "2023-04-15T06:03:20.569278Z",
     "iopub.status.busy": "2023-04-15T06:03:20.568892Z",
     "iopub.status.idle": "2023-04-15T06:03:20.576891Z",
     "shell.execute_reply": "2023-04-15T06:03:20.574538Z",
     "shell.execute_reply.started": "2023-04-15T06:03:20.569244Z"
    }
   },
   "outputs": [],
   "source": [
    "# Define the weights for the samples\n",
    "sentiment_labels = d1_train['predicted_sentiment_label']\n",
    "rp, rn, r0 = 1, 1, 1  # Assign appropriate values to rp, rn, and r0 based on your problem requirements\n",
    "weights_train = np.where(sentiment_labels == 'positive', rp, np.where(sentiment_labels == 'negative', rn, r0))"
   ]
  },
  {
   "cell_type": "code",
   "execution_count": 5,
   "metadata": {
    "execution": {
     "iopub.execute_input": "2023-04-15T06:03:45.919253Z",
     "iopub.status.busy": "2023-04-15T06:03:45.918276Z",
     "iopub.status.idle": "2023-04-15T06:03:58.592257Z",
     "shell.execute_reply": "2023-04-15T06:03:58.591120Z",
     "shell.execute_reply.started": "2023-04-15T06:03:45.919196Z"
    }
   },
   "outputs": [
    {
     "data": {
      "text/html": [
       "<style>#sk-container-id-1 {color: black;background-color: white;}#sk-container-id-1 pre{padding: 0;}#sk-container-id-1 div.sk-toggleable {background-color: white;}#sk-container-id-1 label.sk-toggleable__label {cursor: pointer;display: block;width: 100%;margin-bottom: 0;padding: 0.3em;box-sizing: border-box;text-align: center;}#sk-container-id-1 label.sk-toggleable__label-arrow:before {content: \"▸\";float: left;margin-right: 0.25em;color: #696969;}#sk-container-id-1 label.sk-toggleable__label-arrow:hover:before {color: black;}#sk-container-id-1 div.sk-estimator:hover label.sk-toggleable__label-arrow:before {color: black;}#sk-container-id-1 div.sk-toggleable__content {max-height: 0;max-width: 0;overflow: hidden;text-align: left;background-color: #f0f8ff;}#sk-container-id-1 div.sk-toggleable__content pre {margin: 0.2em;color: black;border-radius: 0.25em;background-color: #f0f8ff;}#sk-container-id-1 input.sk-toggleable__control:checked~div.sk-toggleable__content {max-height: 200px;max-width: 100%;overflow: auto;}#sk-container-id-1 input.sk-toggleable__control:checked~label.sk-toggleable__label-arrow:before {content: \"▾\";}#sk-container-id-1 div.sk-estimator input.sk-toggleable__control:checked~label.sk-toggleable__label {background-color: #d4ebff;}#sk-container-id-1 div.sk-label input.sk-toggleable__control:checked~label.sk-toggleable__label {background-color: #d4ebff;}#sk-container-id-1 input.sk-hidden--visually {border: 0;clip: rect(1px 1px 1px 1px);clip: rect(1px, 1px, 1px, 1px);height: 1px;margin: -1px;overflow: hidden;padding: 0;position: absolute;width: 1px;}#sk-container-id-1 div.sk-estimator {font-family: monospace;background-color: #f0f8ff;border: 1px dotted black;border-radius: 0.25em;box-sizing: border-box;margin-bottom: 0.5em;}#sk-container-id-1 div.sk-estimator:hover {background-color: #d4ebff;}#sk-container-id-1 div.sk-parallel-item::after {content: \"\";width: 100%;border-bottom: 1px solid gray;flex-grow: 1;}#sk-container-id-1 div.sk-label:hover label.sk-toggleable__label {background-color: #d4ebff;}#sk-container-id-1 div.sk-serial::before {content: \"\";position: absolute;border-left: 1px solid gray;box-sizing: border-box;top: 0;bottom: 0;left: 50%;z-index: 0;}#sk-container-id-1 div.sk-serial {display: flex;flex-direction: column;align-items: center;background-color: white;padding-right: 0.2em;padding-left: 0.2em;position: relative;}#sk-container-id-1 div.sk-item {position: relative;z-index: 1;}#sk-container-id-1 div.sk-parallel {display: flex;align-items: stretch;justify-content: center;background-color: white;position: relative;}#sk-container-id-1 div.sk-item::before, #sk-container-id-1 div.sk-parallel-item::before {content: \"\";position: absolute;border-left: 1px solid gray;box-sizing: border-box;top: 0;bottom: 0;left: 50%;z-index: -1;}#sk-container-id-1 div.sk-parallel-item {display: flex;flex-direction: column;z-index: 1;position: relative;background-color: white;}#sk-container-id-1 div.sk-parallel-item:first-child::after {align-self: flex-end;width: 50%;}#sk-container-id-1 div.sk-parallel-item:last-child::after {align-self: flex-start;width: 50%;}#sk-container-id-1 div.sk-parallel-item:only-child::after {width: 0;}#sk-container-id-1 div.sk-dashed-wrapped {border: 1px dashed gray;margin: 0 0.4em 0.5em 0.4em;box-sizing: border-box;padding-bottom: 0.4em;background-color: white;}#sk-container-id-1 div.sk-label label {font-family: monospace;font-weight: bold;display: inline-block;line-height: 1.2em;}#sk-container-id-1 div.sk-label-container {text-align: center;}#sk-container-id-1 div.sk-container {/* jupyter's `normalize.less` sets `[hidden] { display: none; }` but bootstrap.min.css set `[hidden] { display: none !important; }` so we also need the `!important` here to be able to override the default hidden behavior on the sphinx rendered scikit-learn.org. See: https://github.com/scikit-learn/scikit-learn/issues/21755 */display: inline-block !important;position: relative;}#sk-container-id-1 div.sk-text-repr-fallback {display: none;}</style><div id=\"sk-container-id-1\" class=\"sk-top-container\"><div class=\"sk-text-repr-fallback\"><pre>RandomForestClassifier(random_state=42)</pre><b>In a Jupyter environment, please rerun this cell to show the HTML representation or trust the notebook. <br />On GitHub, the HTML representation is unable to render, please try loading this page with nbviewer.org.</b></div><div class=\"sk-container\" hidden><div class=\"sk-item\"><div class=\"sk-estimator sk-toggleable\"><input class=\"sk-toggleable__control sk-hidden--visually\" id=\"sk-estimator-id-1\" type=\"checkbox\" checked><label for=\"sk-estimator-id-1\" class=\"sk-toggleable__label sk-toggleable__label-arrow\">RandomForestClassifier</label><div class=\"sk-toggleable__content\"><pre>RandomForestClassifier(random_state=42)</pre></div></div></div></div></div>"
      ],
      "text/plain": [
       "RandomForestClassifier(random_state=42)"
      ]
     },
     "execution_count": 5,
     "metadata": {},
     "output_type": "execute_result"
    }
   ],
   "source": [
    "# Train the Random Forest model\n",
    "rf_model = RandomForestClassifier(random_state=42)\n",
    "rf_model.fit(X_train, y_train, sample_weight=weights_train)"
   ]
  },
  {
   "cell_type": "code",
   "execution_count": 6,
   "metadata": {
    "execution": {
     "iopub.execute_input": "2023-04-15T06:04:06.130852Z",
     "iopub.status.busy": "2023-04-15T06:04:06.130116Z",
     "iopub.status.idle": "2023-04-15T06:04:06.248261Z",
     "shell.execute_reply": "2023-04-15T06:04:06.247248Z",
     "shell.execute_reply.started": "2023-04-15T06:04:06.130812Z"
    }
   },
   "outputs": [],
   "source": [
    "# Predict on the train dataset\n",
    "y_pred = rf_model.predict(X_train)"
   ]
  },
  {
   "cell_type": "code",
   "execution_count": 7,
   "metadata": {
    "execution": {
     "iopub.execute_input": "2023-04-15T06:04:16.248025Z",
     "iopub.status.busy": "2023-04-15T06:04:16.247295Z",
     "iopub.status.idle": "2023-04-15T06:04:16.262343Z",
     "shell.execute_reply": "2023-04-15T06:04:16.261395Z",
     "shell.execute_reply.started": "2023-04-15T06:04:16.247981Z"
    }
   },
   "outputs": [
    {
     "name": "stdout",
     "output_type": "stream",
     "text": [
      "F1 Score on train: 0.9973384030418251\n",
      "\n",
      "Classification Report:\n",
      "               precision    recall  f1-score   support\n",
      "\n",
      "         0.0       1.00      1.00      1.00      3456\n",
      "         1.0       1.00      1.00      1.00      2634\n",
      "\n",
      "    accuracy                           1.00      6090\n",
      "   macro avg       1.00      1.00      1.00      6090\n",
      "weighted avg       1.00      1.00      1.00      6090\n",
      "\n"
     ]
    }
   ],
   "source": [
    "# Evaluate the model\n",
    "print(\"F1 Score on train:\", f1_score(y_train, y_pred))\n",
    "print(\"\\nClassification Report:\\n\", classification_report(y_train, y_pred))"
   ]
  },
  {
   "cell_type": "markdown",
   "metadata": {},
   "source": [
    "### Evaluate the Random Forest model on D1val and report the performance for T1."
   ]
  },
  {
   "cell_type": "code",
   "execution_count": 8,
   "metadata": {
    "execution": {
     "iopub.execute_input": "2023-04-15T06:25:30.571734Z",
     "iopub.status.busy": "2023-04-15T06:25:30.571352Z",
     "iopub.status.idle": "2023-04-15T06:25:30.605237Z",
     "shell.execute_reply": "2023-04-15T06:25:30.604322Z",
     "shell.execute_reply.started": "2023-04-15T06:25:30.571682Z"
    }
   },
   "outputs": [],
   "source": [
    "# Transform the validation set text data using the previously fitted TF-IDF vectorizer\n",
    "X_val_tfidf = tfidf_vectorizer.transform(d1_val['text'])\n"
   ]
  },
  {
   "cell_type": "code",
   "execution_count": 9,
   "metadata": {
    "execution": {
     "iopub.execute_input": "2023-04-15T06:25:33.149497Z",
     "iopub.status.busy": "2023-04-15T06:25:33.149140Z",
     "iopub.status.idle": "2023-04-15T06:25:33.263964Z",
     "shell.execute_reply": "2023-04-15T06:25:33.262801Z",
     "shell.execute_reply.started": "2023-04-15T06:25:33.149466Z"
    }
   },
   "outputs": [],
   "source": [
    "# Predict the labels for the validation set using the trained Random Forest model\n",
    "y_val_pred = rf_model.predict(X_val_tfidf)\n",
    "d1_val = d1_val.rename(columns={'disaster_label':'target'})\n"
   ]
  },
  {
   "cell_type": "code",
   "execution_count": 10,
   "metadata": {
    "execution": {
     "iopub.execute_input": "2023-04-15T06:25:34.883523Z",
     "iopub.status.busy": "2023-04-15T06:25:34.883161Z",
     "iopub.status.idle": "2023-04-15T06:25:34.895892Z",
     "shell.execute_reply": "2023-04-15T06:25:34.894839Z",
     "shell.execute_reply.started": "2023-04-15T06:25:34.883484Z"
    }
   },
   "outputs": [],
   "source": [
    "# Calculate the performance metrics\n",
    "val_f1 = f1_score(d1_val['target'], y_val_pred)\n",
    "val_confusion_matrix = confusion_matrix(d1_val['target'], y_val_pred)\n"
   ]
  },
  {
   "cell_type": "code",
   "execution_count": 11,
   "metadata": {
    "execution": {
     "iopub.execute_input": "2023-04-15T06:25:39.941621Z",
     "iopub.status.busy": "2023-04-15T06:25:39.940861Z",
     "iopub.status.idle": "2023-04-15T06:25:39.950676Z",
     "shell.execute_reply": "2023-04-15T06:25:39.949636Z",
     "shell.execute_reply.started": "2023-04-15T06:25:39.941574Z"
    }
   },
   "outputs": [
    {
     "name": "stdout",
     "output_type": "stream",
     "text": [
      "Validation F1 Score: 0.7020702070207021\n"
     ]
    }
   ],
   "source": [
    "# Print the performance metrics\n",
    "print(f'Validation F1 Score: {val_f1}')\n",
    "\n"
   ]
  },
  {
   "cell_type": "code",
   "execution_count": 12,
   "metadata": {
    "execution": {
     "iopub.execute_input": "2023-04-15T06:47:15.540022Z",
     "iopub.status.busy": "2023-04-15T06:47:15.539022Z",
     "iopub.status.idle": "2023-04-15T06:47:15.795861Z",
     "shell.execute_reply": "2023-04-15T06:47:15.794657Z",
     "shell.execute_reply.started": "2023-04-15T06:47:15.539979Z"
    }
   },
   "outputs": [
    {
     "data": {
      "text/plain": [
       "<sklearn.metrics._plot.confusion_matrix.ConfusionMatrixDisplay at 0x7fa5792bcac0>"
      ]
     },
     "execution_count": 12,
     "metadata": {},
     "output_type": "execute_result"
    },
    {
     "data": {
      "image/png": "[encoded data removed]",
      "text/plain": [
       "<Figure size 640x480 with 2 Axes>"
      ]
     },
     "metadata": {},
     "output_type": "display_data"
    }
   ],
   "source": [
    "# Print the confusion matrix\n",
    "cm_display = ConfusionMatrixDisplay(val_confusion_matrix, display_labels=[\"0\", \"1\"])\n",
    "cm_display.plot(values_format=\"d\")"
   ]
  },
  {
   "cell_type": "code",
   "execution_count": null,
   "metadata": {},
   "outputs": [],
   "source": []
  }
 ],
 "metadata": {
  "kernelspec": {
   "display_name": "Python 3 (ipykernel)",
   "language": "python",
   "name": "python3"
  },
  "language_info": {
   "codemirror_mode": {
    "name": "ipython",
    "version": 3
   },
   "file_extension": ".py",
   "mimetype": "text/x-python",
   "name": "python",
   "nbconvert_exporter": "python",
   "pygments_lexer": "ipython3",
   "version": "3.10.9"
  }
 },
 "nbformat": 4,
 "nbformat_minor": 4
}
