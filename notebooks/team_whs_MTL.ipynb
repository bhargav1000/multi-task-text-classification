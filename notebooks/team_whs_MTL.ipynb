{
 "cells": [
  {
   "cell_type": "code",
   "execution_count": 1,
   "metadata": {
    "_cell_guid": "b1076dfc-b9ad-4769-8c92-a6c4dae69d19",
    "_uuid": "8f2839f25d086af736a60e9eeb907d3b93b6e0e5",
    "execution": {
     "iopub.execute_input": "2023-04-16T06:14:30.977333Z",
     "iopub.status.busy": "2023-04-16T06:14:30.977053Z",
     "iopub.status.idle": "2023-04-16T06:14:31.003074Z",
     "shell.execute_reply": "2023-04-16T06:14:31.002104Z",
     "shell.execute_reply.started": "2023-04-16T06:14:30.977305Z"
    },
    "id": "gaLxnXDtLnB4"
   },
   "outputs": [],
   "source": [
    "# # This Python 3 environment comes with many helpful analytics libraries installed\n",
    "# # It is defined by the kaggle/python Docker image: https://github.com/kaggle/docker-python\n",
    "# # For example, here's several helpful packages to load\n",
    "\n",
    "# import numpy as np # linear algebra\n",
    "# import pandas as pd # data processing, CSV file I/O (e.g. pd.read_csv)\n",
    "\n",
    "# # Input data files are available in the read-only \"../input/\" directory\n",
    "# # For example, running this (by clicking run or pressing Shift+Enter) will list all files under the input directory\n",
    "\n",
    "# import os\n",
    "# for dirname, _, filenames in os.walk('/kaggle/input'):\n",
    "#     for filename in filenames:\n",
    "#         print(os.path.join(dirname, filename))\n",
    "\n",
    "# # You can write up to 20GB to the current directory (/kaggle/working/) that gets preserved as output when you create a version using \"Save & Run All\" \n",
    "# # You can also write temporary files to /kaggle/temp/, but they won't be saved outside of the current session"
   ]
  },
  {
   "cell_type": "code",
   "execution_count": 2,
   "metadata": {
    "execution": {
     "iopub.execute_input": "2023-04-16T06:14:31.005673Z",
     "iopub.status.busy": "2023-04-16T06:14:31.005228Z",
     "iopub.status.idle": "2023-04-16T06:14:38.625879Z",
     "shell.execute_reply": "2023-04-16T06:14:38.624623Z",
     "shell.execute_reply.started": "2023-04-16T06:14:31.005627Z"
    },
    "id": "vBpsniv-LnB5"
   },
   "outputs": [],
   "source": [
    "import pandas as pd\n",
    "import numpy as np\n",
    "import torch\n",
    "import torch.nn as nn\n",
    "from torch.utils.data import Dataset, DataLoader\n",
    "from sklearn.model_selection import train_test_split\n",
    "from transformers import BertModel, BertTokenizer\n",
    "import matplotlib.pyplot as plt\n",
    "import seaborn as sns\n",
    "from tqdm import tqdm"
   ]
  },
  {
   "cell_type": "markdown",
   "metadata": {
    "id": "ajGVWlbkLnB6"
   },
   "source": [
    "# Load Data"
   ]
  },
  {
   "cell_type": "code",
   "execution_count": 3,
   "metadata": {
    "execution": {
     "iopub.execute_input": "2023-04-16T06:14:38.628282Z",
     "iopub.status.busy": "2023-04-16T06:14:38.627915Z",
     "iopub.status.idle": "2023-04-16T06:14:38.834560Z",
     "shell.execute_reply": "2023-04-16T06:14:38.833321Z",
     "shell.execute_reply.started": "2023-04-16T06:14:38.628241Z"
    },
    "id": "Hed27MNoLnB6"
   },
   "outputs": [],
   "source": [
    "# load the datasets\n",
    "d1_data = pd.read_csv(\"/kaggle/input/nlp-getting-started/train.csv\", low_memory=False)\n",
    "d1_test = pd.read_csv(\"/kaggle/input/nlp-getting-started/test.csv\", low_memory=False)\n",
    "d2_data = pd.read_csv(\"/kaggle/input/twitter-tweets-sentiment-dataset/Tweets.csv\", low_memory=False)"
   ]
  },
  {
   "cell_type": "code",
   "execution_count": 4,
   "metadata": {
    "colab": {
     "base_uri": "https://localhost:8080/",
     "height": 206
    },
    "execution": {
     "iopub.execute_input": "2023-04-16T06:14:38.838301Z",
     "iopub.status.busy": "2023-04-16T06:14:38.837656Z",
     "iopub.status.idle": "2023-04-16T06:14:38.861440Z",
     "shell.execute_reply": "2023-04-16T06:14:38.860357Z",
     "shell.execute_reply.started": "2023-04-16T06:14:38.838262Z"
    },
    "id": "d1XQktg6LnB6",
    "outputId": "bce01178-00a5-472e-ed8c-93959edd052f"
   },
   "outputs": [
    {
     "data": {
      "text/html": [
       "<div>\n",
       "<style scoped>\n",
       "    .dataframe tbody tr th:only-of-type {\n",
       "        vertical-align: middle;\n",
       "    }\n",
       "\n",
       "    .dataframe tbody tr th {\n",
       "        vertical-align: top;\n",
       "    }\n",
       "\n",
       "    .dataframe thead th {\n",
       "        text-align: right;\n",
       "    }\n",
       "</style>\n",
       "<table border=\"1\" class=\"dataframe\">\n",
       "  <thead>\n",
       "    <tr style=\"text-align: right;\">\n",
       "      <th></th>\n",
       "      <th>id</th>\n",
       "      <th>keyword</th>\n",
       "      <th>location</th>\n",
       "      <th>text</th>\n",
       "      <th>target</th>\n",
       "    </tr>\n",
       "  </thead>\n",
       "  <tbody>\n",
       "    <tr>\n",
       "      <th>0</th>\n",
       "      <td>1</td>\n",
       "      <td>NaN</td>\n",
       "      <td>NaN</td>\n",
       "      <td>Our Deeds are the Reason of this #earthquake M...</td>\n",
       "      <td>1</td>\n",
       "    </tr>\n",
       "    <tr>\n",
       "      <th>1</th>\n",
       "      <td>4</td>\n",
       "      <td>NaN</td>\n",
       "      <td>NaN</td>\n",
       "      <td>Forest fire near La Ronge Sask. Canada</td>\n",
       "      <td>1</td>\n",
       "    </tr>\n",
       "    <tr>\n",
       "      <th>2</th>\n",
       "      <td>5</td>\n",
       "      <td>NaN</td>\n",
       "      <td>NaN</td>\n",
       "      <td>All residents asked to 'shelter in place' are ...</td>\n",
       "      <td>1</td>\n",
       "    </tr>\n",
       "    <tr>\n",
       "      <th>3</th>\n",
       "      <td>6</td>\n",
       "      <td>NaN</td>\n",
       "      <td>NaN</td>\n",
       "      <td>13,000 people receive #wildfires evacuation or...</td>\n",
       "      <td>1</td>\n",
       "    </tr>\n",
       "    <tr>\n",
       "      <th>4</th>\n",
       "      <td>7</td>\n",
       "      <td>NaN</td>\n",
       "      <td>NaN</td>\n",
       "      <td>Just got sent this photo from Ruby #Alaska as ...</td>\n",
       "      <td>1</td>\n",
       "    </tr>\n",
       "  </tbody>\n",
       "</table>\n",
       "</div>"
      ],
      "text/plain": [
       "   id keyword location                                               text  \\\n",
       "0   1     NaN      NaN  Our Deeds are the Reason of this #earthquake M...   \n",
       "1   4     NaN      NaN             Forest fire near La Ronge Sask. Canada   \n",
       "2   5     NaN      NaN  All residents asked to 'shelter in place' are ...   \n",
       "3   6     NaN      NaN  13,000 people receive #wildfires evacuation or...   \n",
       "4   7     NaN      NaN  Just got sent this photo from Ruby #Alaska as ...   \n",
       "\n",
       "   target  \n",
       "0       1  \n",
       "1       1  \n",
       "2       1  \n",
       "3       1  \n",
       "4       1  "
      ]
     },
     "execution_count": 4,
     "metadata": {},
     "output_type": "execute_result"
    }
   ],
   "source": [
    "d1_data.head()"
   ]
  },
  {
   "cell_type": "code",
   "execution_count": 5,
   "metadata": {
    "colab": {
     "base_uri": "https://localhost:8080/",
     "height": 206
    },
    "execution": {
     "iopub.execute_input": "2023-04-16T06:14:38.863439Z",
     "iopub.status.busy": "2023-04-16T06:14:38.862866Z",
     "iopub.status.idle": "2023-04-16T06:14:38.880528Z",
     "shell.execute_reply": "2023-04-16T06:14:38.879452Z",
     "shell.execute_reply.started": "2023-04-16T06:14:38.863395Z"
    },
    "id": "sw-hGC9YLnB6",
    "outputId": "e7ae5ec2-9278-48fe-a26f-6971fee37367"
   },
   "outputs": [
    {
     "data": {
      "text/html": [
       "<div>\n",
       "<style scoped>\n",
       "    .dataframe tbody tr th:only-of-type {\n",
       "        vertical-align: middle;\n",
       "    }\n",
       "\n",
       "    .dataframe tbody tr th {\n",
       "        vertical-align: top;\n",
       "    }\n",
       "\n",
       "    .dataframe thead th {\n",
       "        text-align: right;\n",
       "    }\n",
       "</style>\n",
       "<table border=\"1\" class=\"dataframe\">\n",
       "  <thead>\n",
       "    <tr style=\"text-align: right;\">\n",
       "      <th></th>\n",
       "      <th>textID</th>\n",
       "      <th>text</th>\n",
       "      <th>selected_text</th>\n",
       "      <th>sentiment</th>\n",
       "    </tr>\n",
       "  </thead>\n",
       "  <tbody>\n",
       "    <tr>\n",
       "      <th>0</th>\n",
       "      <td>cb774db0d1</td>\n",
       "      <td>I`d have responded, if I were going</td>\n",
       "      <td>I`d have responded, if I were going</td>\n",
       "      <td>neutral</td>\n",
       "    </tr>\n",
       "    <tr>\n",
       "      <th>1</th>\n",
       "      <td>549e992a42</td>\n",
       "      <td>Sooo SAD I will miss you here in San Diego!!!</td>\n",
       "      <td>Sooo SAD</td>\n",
       "      <td>negative</td>\n",
       "    </tr>\n",
       "    <tr>\n",
       "      <th>2</th>\n",
       "      <td>088c60f138</td>\n",
       "      <td>my boss is bullying me...</td>\n",
       "      <td>bullying me</td>\n",
       "      <td>negative</td>\n",
       "    </tr>\n",
       "    <tr>\n",
       "      <th>3</th>\n",
       "      <td>9642c003ef</td>\n",
       "      <td>what interview! leave me alone</td>\n",
       "      <td>leave me alone</td>\n",
       "      <td>negative</td>\n",
       "    </tr>\n",
       "    <tr>\n",
       "      <th>4</th>\n",
       "      <td>358bd9e861</td>\n",
       "      <td>Sons of ****, why couldn`t they put them on t...</td>\n",
       "      <td>Sons of ****,</td>\n",
       "      <td>negative</td>\n",
       "    </tr>\n",
       "  </tbody>\n",
       "</table>\n",
       "</div>"
      ],
      "text/plain": [
       "       textID                                               text  \\\n",
       "0  cb774db0d1                I`d have responded, if I were going   \n",
       "1  549e992a42      Sooo SAD I will miss you here in San Diego!!!   \n",
       "2  088c60f138                          my boss is bullying me...   \n",
       "3  9642c003ef                     what interview! leave me alone   \n",
       "4  358bd9e861   Sons of ****, why couldn`t they put them on t...   \n",
       "\n",
       "                         selected_text sentiment  \n",
       "0  I`d have responded, if I were going   neutral  \n",
       "1                             Sooo SAD  negative  \n",
       "2                          bullying me  negative  \n",
       "3                       leave me alone  negative  \n",
       "4                        Sons of ****,  negative  "
      ]
     },
     "execution_count": 5,
     "metadata": {},
     "output_type": "execute_result"
    }
   ],
   "source": [
    "d2_data.head()"
   ]
  },
  {
   "cell_type": "markdown",
   "metadata": {
    "id": "vUV5xSlMLnB7"
   },
   "source": [
    "# 1. Data Preprocessing"
   ]
  },
  {
   "cell_type": "code",
   "execution_count": 6,
   "metadata": {
    "execution": {
     "iopub.execute_input": "2023-04-16T06:14:38.887895Z",
     "iopub.status.busy": "2023-04-16T06:14:38.885140Z",
     "iopub.status.idle": "2023-04-16T06:14:38.916632Z",
     "shell.execute_reply": "2023-04-16T06:14:38.915426Z",
     "shell.execute_reply.started": "2023-04-16T06:14:38.887855Z"
    },
    "id": "L8IW6xd6LnB7"
   },
   "outputs": [],
   "source": [
    "# replace sentiment with specified values\n",
    "d2_data['target'] = d2_data['sentiment'].replace({'neutral':0, 'negative':1, 'positive':2})"
   ]
  },
  {
   "cell_type": "code",
   "execution_count": 7,
   "metadata": {
    "colab": {
     "base_uri": "https://localhost:8080/"
    },
    "execution": {
     "iopub.execute_input": "2023-04-16T06:14:38.918549Z",
     "iopub.status.busy": "2023-04-16T06:14:38.918077Z",
     "iopub.status.idle": "2023-04-16T06:14:38.933729Z",
     "shell.execute_reply": "2023-04-16T06:14:38.932666Z",
     "shell.execute_reply.started": "2023-04-16T06:14:38.918499Z"
    },
    "id": "9zHEiv8aLnB7",
    "outputId": "1d8d9f69-b884-471b-9360-46b11524b9d4"
   },
   "outputs": [
    {
     "data": {
      "text/plain": [
       "textID           0\n",
       "text             1\n",
       "selected_text    1\n",
       "sentiment        0\n",
       "target           0\n",
       "dtype: int64"
      ]
     },
     "execution_count": 7,
     "metadata": {},
     "output_type": "execute_result"
    }
   ],
   "source": [
    "# checking for null values\n",
    "d2_data.isnull().sum()"
   ]
  },
  {
   "cell_type": "code",
   "execution_count": 8,
   "metadata": {
    "execution": {
     "iopub.execute_input": "2023-04-16T06:14:38.937183Z",
     "iopub.status.busy": "2023-04-16T06:14:38.936185Z",
     "iopub.status.idle": "2023-04-16T06:14:38.949769Z",
     "shell.execute_reply": "2023-04-16T06:14:38.948596Z",
     "shell.execute_reply.started": "2023-04-16T06:14:38.937144Z"
    },
    "id": "yfb9xEtjLnB7"
   },
   "outputs": [],
   "source": [
    "# remove null values\n",
    "d2_data = d2_data.dropna(subset=['text'])"
   ]
  },
  {
   "cell_type": "code",
   "execution_count": 9,
   "metadata": {
    "execution": {
     "iopub.execute_input": "2023-04-16T06:14:38.951810Z",
     "iopub.status.busy": "2023-04-16T06:14:38.951242Z",
     "iopub.status.idle": "2023-04-16T06:14:41.635408Z",
     "shell.execute_reply": "2023-04-16T06:14:41.634271Z",
     "shell.execute_reply.started": "2023-04-16T06:14:38.951772Z"
    },
    "id": "x3P996AdLnB7"
   },
   "outputs": [
    {
     "data": {
      "application/vnd.jupyter.widget-view+json": {
       "model_id": "8a361f04e8ea4a10b9093301a9fce352",
       "version_major": 2,
       "version_minor": 0
      },
      "text/plain": [
       "Downloading (…)solve/main/vocab.txt:   0%|          | 0.00/232k [00:00<?, ?B/s]"
      ]
     },
     "metadata": {},
     "output_type": "display_data"
    },
    {
     "data": {
      "application/vnd.jupyter.widget-view+json": {
       "model_id": "09549886bd5a44b0a7d57b9ee652ced5",
       "version_major": 2,
       "version_minor": 0
      },
      "text/plain": [
       "Downloading (…)okenizer_config.json:   0%|          | 0.00/28.0 [00:00<?, ?B/s]"
      ]
     },
     "metadata": {},
     "output_type": "display_data"
    },
    {
     "data": {
      "application/vnd.jupyter.widget-view+json": {
       "model_id": "1600ab78778a45369f22c1ecb8b50c97",
       "version_major": 2,
       "version_minor": 0
      },
      "text/plain": [
       "Downloading (…)lve/main/config.json:   0%|          | 0.00/570 [00:00<?, ?B/s]"
      ]
     },
     "metadata": {},
     "output_type": "display_data"
    }
   ],
   "source": [
    "# tokenize the text using BERT tokenizer\n",
    "tokenizer = BertTokenizer.from_pretrained('bert-base-uncased')"
   ]
  },
  {
   "cell_type": "markdown",
   "metadata": {
    "id": "bAdIDvSOLnB7"
   },
   "source": [
    "Devlin, J., Chang, M.-W., Lee, K., & Toutanova, K. (2018). BERT: Pre-training of deep bidirectional transformers for language understanding. arXiv preprint arXiv:1810.04805."
   ]
  },
  {
   "cell_type": "code",
   "execution_count": 10,
   "metadata": {
    "execution": {
     "iopub.execute_input": "2023-04-16T06:14:41.640524Z",
     "iopub.status.busy": "2023-04-16T06:14:41.640224Z",
     "iopub.status.idle": "2023-04-16T06:14:41.647460Z",
     "shell.execute_reply": "2023-04-16T06:14:41.644879Z",
     "shell.execute_reply.started": "2023-04-16T06:14:41.640495Z"
    },
    "id": "UZind10lLnB7"
   },
   "outputs": [],
   "source": [
    "# define helper function for tokenization\n",
    "def tokenize_text(text):\n",
    "    return tokenizer.encode(\n",
    "        text,\n",
    "        add_special_tokens=True,\n",
    "        max_length=256,\n",
    "        padding='max_length',\n",
    "        return_token_type_ids=True,\n",
    "        truncation=True,\n",
    "        return_tensors='pt'\n",
    "    )"
   ]
  },
  {
   "cell_type": "code",
   "execution_count": 11,
   "metadata": {
    "colab": {
     "base_uri": "https://localhost:8080/"
    },
    "execution": {
     "iopub.execute_input": "2023-04-16T06:14:41.649830Z",
     "iopub.status.busy": "2023-04-16T06:14:41.649036Z",
     "iopub.status.idle": "2023-04-16T06:14:41.671153Z",
     "shell.execute_reply": "2023-04-16T06:14:41.670127Z",
     "shell.execute_reply.started": "2023-04-16T06:14:41.649785Z"
    },
    "id": "t0qYps3DLnB7",
    "outputId": "e541f61f-ab81-4503-ce17-f4df05c31c5f"
   },
   "outputs": [],
   "source": [
    "# create flag variable to keep track of source data\n",
    "d1_data['flag'] = 'd1_data'\n",
    "d1_test['flag'] = 'd1_test'\n",
    "d2_data['flag'] = 'd2_data'\n",
    "\n",
    "# combine dataframes to create corpus\n",
    "corpus = pd.concat([d1_data, d1_test, d2_data], axis=0)"
   ]
  },
  {
   "cell_type": "code",
   "execution_count": 12,
   "metadata": {
    "colab": {
     "base_uri": "https://localhost:8080/",
     "height": 206
    },
    "execution": {
     "iopub.execute_input": "2023-04-16T06:14:41.673468Z",
     "iopub.status.busy": "2023-04-16T06:14:41.672594Z",
     "iopub.status.idle": "2023-04-16T06:14:41.690824Z",
     "shell.execute_reply": "2023-04-16T06:14:41.689632Z",
     "shell.execute_reply.started": "2023-04-16T06:14:41.673426Z"
    },
    "id": "PMxzdCuELnB8",
    "outputId": "47661b13-42fa-4a2a-ad02-582f6545928f"
   },
   "outputs": [
    {
     "data": {
      "text/html": [
       "<div>\n",
       "<style scoped>\n",
       "    .dataframe tbody tr th:only-of-type {\n",
       "        vertical-align: middle;\n",
       "    }\n",
       "\n",
       "    .dataframe tbody tr th {\n",
       "        vertical-align: top;\n",
       "    }\n",
       "\n",
       "    .dataframe thead th {\n",
       "        text-align: right;\n",
       "    }\n",
       "</style>\n",
       "<table border=\"1\" class=\"dataframe\">\n",
       "  <thead>\n",
       "    <tr style=\"text-align: right;\">\n",
       "      <th></th>\n",
       "      <th>id</th>\n",
       "      <th>keyword</th>\n",
       "      <th>location</th>\n",
       "      <th>text</th>\n",
       "      <th>target</th>\n",
       "      <th>flag</th>\n",
       "      <th>textID</th>\n",
       "      <th>selected_text</th>\n",
       "      <th>sentiment</th>\n",
       "    </tr>\n",
       "  </thead>\n",
       "  <tbody>\n",
       "    <tr>\n",
       "      <th>0</th>\n",
       "      <td>1.0</td>\n",
       "      <td>NaN</td>\n",
       "      <td>NaN</td>\n",
       "      <td>Our Deeds are the Reason of this #earthquake M...</td>\n",
       "      <td>1.0</td>\n",
       "      <td>d1_data</td>\n",
       "      <td>NaN</td>\n",
       "      <td>NaN</td>\n",
       "      <td>NaN</td>\n",
       "    </tr>\n",
       "    <tr>\n",
       "      <th>1</th>\n",
       "      <td>4.0</td>\n",
       "      <td>NaN</td>\n",
       "      <td>NaN</td>\n",
       "      <td>Forest fire near La Ronge Sask. Canada</td>\n",
       "      <td>1.0</td>\n",
       "      <td>d1_data</td>\n",
       "      <td>NaN</td>\n",
       "      <td>NaN</td>\n",
       "      <td>NaN</td>\n",
       "    </tr>\n",
       "    <tr>\n",
       "      <th>2</th>\n",
       "      <td>5.0</td>\n",
       "      <td>NaN</td>\n",
       "      <td>NaN</td>\n",
       "      <td>All residents asked to 'shelter in place' are ...</td>\n",
       "      <td>1.0</td>\n",
       "      <td>d1_data</td>\n",
       "      <td>NaN</td>\n",
       "      <td>NaN</td>\n",
       "      <td>NaN</td>\n",
       "    </tr>\n",
       "    <tr>\n",
       "      <th>3</th>\n",
       "      <td>6.0</td>\n",
       "      <td>NaN</td>\n",
       "      <td>NaN</td>\n",
       "      <td>13,000 people receive #wildfires evacuation or...</td>\n",
       "      <td>1.0</td>\n",
       "      <td>d1_data</td>\n",
       "      <td>NaN</td>\n",
       "      <td>NaN</td>\n",
       "      <td>NaN</td>\n",
       "    </tr>\n",
       "    <tr>\n",
       "      <th>4</th>\n",
       "      <td>7.0</td>\n",
       "      <td>NaN</td>\n",
       "      <td>NaN</td>\n",
       "      <td>Just got sent this photo from Ruby #Alaska as ...</td>\n",
       "      <td>1.0</td>\n",
       "      <td>d1_data</td>\n",
       "      <td>NaN</td>\n",
       "      <td>NaN</td>\n",
       "      <td>NaN</td>\n",
       "    </tr>\n",
       "  </tbody>\n",
       "</table>\n",
       "</div>"
      ],
      "text/plain": [
       "    id keyword location                                               text  \\\n",
       "0  1.0     NaN      NaN  Our Deeds are the Reason of this #earthquake M...   \n",
       "1  4.0     NaN      NaN             Forest fire near La Ronge Sask. Canada   \n",
       "2  5.0     NaN      NaN  All residents asked to 'shelter in place' are ...   \n",
       "3  6.0     NaN      NaN  13,000 people receive #wildfires evacuation or...   \n",
       "4  7.0     NaN      NaN  Just got sent this photo from Ruby #Alaska as ...   \n",
       "\n",
       "   target     flag textID selected_text sentiment  \n",
       "0     1.0  d1_data    NaN           NaN       NaN  \n",
       "1     1.0  d1_data    NaN           NaN       NaN  \n",
       "2     1.0  d1_data    NaN           NaN       NaN  \n",
       "3     1.0  d1_data    NaN           NaN       NaN  \n",
       "4     1.0  d1_data    NaN           NaN       NaN  "
      ]
     },
     "execution_count": 12,
     "metadata": {},
     "output_type": "execute_result"
    }
   ],
   "source": [
    "\n",
    "corpus.head()"
   ]
  },
  {
   "cell_type": "code",
   "execution_count": 13,
   "metadata": {
    "colab": {
     "base_uri": "https://localhost:8080/"
    },
    "execution": {
     "iopub.execute_input": "2023-04-16T06:14:41.693919Z",
     "iopub.status.busy": "2023-04-16T06:14:41.692667Z",
     "iopub.status.idle": "2023-04-16T06:15:08.074270Z",
     "shell.execute_reply": "2023-04-16T06:15:08.073166Z",
     "shell.execute_reply.started": "2023-04-16T06:14:41.693872Z"
    },
    "id": "XPmh7SnzLnB8",
    "outputId": "65bec34a-7a68-4493-bab1-ef95f5c17272"
   },
   "outputs": [
    {
     "name": "stderr",
     "output_type": "stream",
     "text": [
      "100%|██████████| 38356/38356 [00:25<00:00, 1479.12it/s]\n"
     ]
    }
   ],
   "source": [
    "# tokenize texts in corpus using BERT tokenizer\n",
    "corpus['input_ids'] = [tokenize_text(text) for text in tqdm(corpus['text'])]"
   ]
  },
  {
   "cell_type": "code",
   "execution_count": 14,
   "metadata": {
    "execution": {
     "iopub.execute_input": "2023-04-16T06:15:08.076407Z",
     "iopub.status.busy": "2023-04-16T06:15:08.076031Z",
     "iopub.status.idle": "2023-04-16T06:15:08.111891Z",
     "shell.execute_reply": "2023-04-16T06:15:08.110953Z",
     "shell.execute_reply.started": "2023-04-16T06:15:08.076343Z"
    },
    "id": "b3aHkzN6LnB8"
   },
   "outputs": [],
   "source": [
    "# split corpus into original datasets\n",
    "d1_data_preprocessed = corpus[corpus['flag']=='d1_data'][['text', 'input_ids', 'target']]\n",
    "d1_test_preprocessed = corpus[corpus['flag']=='d1_test'][['text', 'input_ids']]\n",
    "d2_data_preprocessed = corpus[corpus['flag']=='d2_data'][['text', 'input_ids', 'target']]"
   ]
  },
  {
   "cell_type": "code",
   "execution_count": 15,
   "metadata": {
    "execution": {
     "iopub.execute_input": "2023-04-16T06:15:08.113890Z",
     "iopub.status.busy": "2023-04-16T06:15:08.113307Z",
     "iopub.status.idle": "2023-04-16T06:15:08.125412Z",
     "shell.execute_reply": "2023-04-16T06:15:08.124432Z",
     "shell.execute_reply.started": "2023-04-16T06:15:08.113840Z"
    },
    "id": "iYMr3mtZLnB8"
   },
   "outputs": [],
   "source": [
    "# perform train validation split\n",
    "d1_train, d1_val = train_test_split(d1_data_preprocessed, test_size=0.2, random_state=2023)\n",
    "d2_train, d2_val = train_test_split(d2_data_preprocessed, test_size=0.2, random_state=2023)"
   ]
  },
  {
   "cell_type": "code",
   "execution_count": 16,
   "metadata": {
    "execution": {
     "iopub.execute_input": "2023-04-16T06:15:08.127228Z",
     "iopub.status.busy": "2023-04-16T06:15:08.126872Z",
     "iopub.status.idle": "2023-04-16T06:15:08.606429Z",
     "shell.execute_reply": "2023-04-16T06:15:08.605429Z",
     "shell.execute_reply.started": "2023-04-16T06:15:08.127192Z"
    },
    "id": "TxoTewCxLnB8"
   },
   "outputs": [],
   "source": [
    "# get tokens from train and validation sets\n",
    "d1_train_tokens = torch.from_numpy(np.vstack(d1_train['input_ids']))\n",
    "d1_val_tokens = torch.from_numpy(np.vstack(d1_val['input_ids']))\n",
    "\n",
    "d2_train_tokens = torch.from_numpy(np.vstack(d2_train['input_ids']))\n",
    "d2_val_tokens = torch.from_numpy(np.vstack(d2_val['input_ids']))"
   ]
  },
  {
   "cell_type": "code",
   "execution_count": 17,
   "metadata": {
    "execution": {
     "iopub.execute_input": "2023-04-16T06:15:08.608321Z",
     "iopub.status.busy": "2023-04-16T06:15:08.607897Z",
     "iopub.status.idle": "2023-04-16T06:15:08.693470Z",
     "shell.execute_reply": "2023-04-16T06:15:08.692435Z",
     "shell.execute_reply.started": "2023-04-16T06:15:08.608273Z"
    },
    "id": "Wt1AGgcNLnB8"
   },
   "outputs": [],
   "source": [
    "# get attention masks from train and validation sets\n",
    "d1_train_attention_masks = torch.where(d1_train_tokens!=0, 1, 0)\n",
    "d1_val_attention_masks = torch.where(d1_val_tokens!=0, 1, 0)\n",
    "\n",
    "d2_train_attention_masks = torch.where(d2_train_tokens!=0, 1, 0)\n",
    "d2_val_attention_masks = torch.where(d2_val_tokens!=0, 1, 0)"
   ]
  },
  {
   "cell_type": "code",
   "execution_count": 18,
   "metadata": {
    "execution": {
     "iopub.execute_input": "2023-04-16T06:15:08.695262Z",
     "iopub.status.busy": "2023-04-16T06:15:08.694895Z",
     "iopub.status.idle": "2023-04-16T06:15:08.762836Z",
     "shell.execute_reply": "2023-04-16T06:15:08.760529Z",
     "shell.execute_reply.started": "2023-04-16T06:15:08.695225Z"
    },
    "id": "zLSLgyRrLnB8"
   },
   "outputs": [],
   "source": [
    "# set device\n",
    "device = torch.device('cuda' if torch.cuda.is_available() else 'cpu')"
   ]
  },
  {
   "cell_type": "markdown",
   "metadata": {
    "id": "xQSQZrfbLnB8"
   },
   "source": [
    "# 2. Model Building"
   ]
  },
  {
   "cell_type": "code",
   "execution_count": 19,
   "metadata": {
    "execution": {
     "iopub.execute_input": "2023-04-16T06:15:08.765046Z",
     "iopub.status.busy": "2023-04-16T06:15:08.764356Z",
     "iopub.status.idle": "2023-04-16T06:15:08.777849Z",
     "shell.execute_reply": "2023-04-16T06:15:08.776623Z",
     "shell.execute_reply.started": "2023-04-16T06:15:08.765006Z"
    },
    "id": "CKrinrCwLnB8"
   },
   "outputs": [],
   "source": [
    "# define the neural network model\n",
    "class DisasterSentimentModel(nn.Module):\n",
    "    def __init__(self, num_labels1, num_labels2):\n",
    "        super(DisasterSentimentModel, self).__init__()\n",
    "        self.bert_layer = BertModel.from_pretrained('bert-base-uncased')\n",
    "        for param in self.bert_layer.parameters():\n",
    "            param.requires_grad = False\n",
    "        self.dropout_layer = nn.Dropout(0.3)\n",
    "        \n",
    "        self.dense_layer1 = nn.Linear(self.bert_layer.config.hidden_size, 512)\n",
    "        self.classifier_layer1 = nn.Linear(512, num_labels1)\n",
    "        \n",
    "        self.dense_layer2 = nn.Linear(self.bert_layer.config.hidden_size, 512)\n",
    "        self.classifier_layer2 = nn.Linear(512, num_labels2)\n",
    "\n",
    "    def forward(self, input_ids, attention_mask=None):\n",
    "        bert_output = self.bert_layer(input_ids=input_ids, attention_mask=attention_mask)\n",
    "        pooled_output = bert_output[0]\n",
    "        pooled_output = pooled_output[:, 0]\n",
    "        \n",
    "        output1 = self.dense_layer1(pooled_output)\n",
    "        output1 = nn.ReLU()(output1)\n",
    "        output1 = self.dropout_layer(output1)\n",
    "        output1 = torch.softmax(self.classifier_layer1(output1), dim=-1)\n",
    "        \n",
    "        output2 = self.dense_layer2(pooled_output)\n",
    "        output2 = nn.ReLU()(output2)\n",
    "        output2 = self.dropout_layer(output2)\n",
    "        output2 = torch.softmax(self.classifier_layer2(output2), dim=-1)\n",
    "        return output1, output2"
   ]
  },
  {
   "cell_type": "markdown",
   "metadata": {
    "id": "cF-2PRD5LnB9"
   },
   "source": [
    "**BERT Citation:**\n",
    "\n",
    "Devlin, J., Chang, M.-W., Lee, K., & Toutanova, K. (2018). BERT: Pre-training of deep bidirectional transformers for language understanding. arXiv preprint arXiv:1810.04805."
   ]
  },
  {
   "cell_type": "markdown",
   "metadata": {
    "id": "ovvbP3eSLnB9"
   },
   "source": [
    "**The inputs to the model would be the tokenized text tokens along with the attention masks.**\n",
    "\n",
    "**The Predictions from the model would be whether the input text represents a disaster or not and the sentiment label of the text (positive, negative or neutral).**\n",
    "\n",
    "**These Predictions would be used by reporters to filter texts/tweets to look for critical news carrying heavy sentiment and filter out texts that are hard to classify otherwise. For example, the text could be talking about how amazing a concert was by using words like \"on fire\" versus a text that describes how a building is actually on fire.**"
   ]
  },
  {
   "cell_type": "code",
   "execution_count": 20,
   "metadata": {
    "colab": {
     "base_uri": "https://localhost:8080/"
    },
    "execution": {
     "iopub.execute_input": "2023-04-16T06:15:08.780248Z",
     "iopub.status.busy": "2023-04-16T06:15:08.779484Z",
     "iopub.status.idle": "2023-04-16T06:15:17.921204Z",
     "shell.execute_reply": "2023-04-16T06:15:17.920181Z",
     "shell.execute_reply.started": "2023-04-16T06:15:08.780212Z"
    },
    "id": "u-yuhNbtLnB9",
    "outputId": "cc165f47-8760-4c76-b9e2-d1559cc1227e"
   },
   "outputs": [
    {
     "data": {
      "application/vnd.jupyter.widget-view+json": {
       "model_id": "91696bbe7c2b4aebbf79367ba464422c",
       "version_major": 2,
       "version_minor": 0
      },
      "text/plain": [
       "Downloading pytorch_model.bin:   0%|          | 0.00/440M [00:00<?, ?B/s]"
      ]
     },
     "metadata": {},
     "output_type": "display_data"
    },
    {
     "name": "stderr",
     "output_type": "stream",
     "text": [
      "Some weights of the model checkpoint at bert-base-uncased were not used when initializing BertModel: ['cls.predictions.bias', 'cls.predictions.transform.LayerNorm.weight', 'cls.seq_relationship.bias', 'cls.seq_relationship.weight', 'cls.predictions.transform.dense.bias', 'cls.predictions.transform.LayerNorm.bias', 'cls.predictions.transform.dense.weight', 'cls.predictions.decoder.weight']\n",
      "- This IS expected if you are initializing BertModel from the checkpoint of a model trained on another task or with another architecture (e.g. initializing a BertForSequenceClassification model from a BertForPreTraining model).\n",
      "- This IS NOT expected if you are initializing BertModel from the checkpoint of a model that you expect to be exactly identical (initializing a BertForSequenceClassification model from a BertForSequenceClassification model).\n",
      "Some weights of the model checkpoint at bert-base-uncased were not used when initializing BertModel: ['cls.predictions.bias', 'cls.predictions.transform.LayerNorm.weight', 'cls.seq_relationship.bias', 'cls.seq_relationship.weight', 'cls.predictions.transform.dense.bias', 'cls.predictions.transform.LayerNorm.bias', 'cls.predictions.transform.dense.weight', 'cls.predictions.decoder.weight']\n",
      "- This IS expected if you are initializing BertModel from the checkpoint of a model trained on another task or with another architecture (e.g. initializing a BertForSequenceClassification model from a BertForPreTraining model).\n",
      "- This IS NOT expected if you are initializing BertModel from the checkpoint of a model that you expect to be exactly identical (initializing a BertForSequenceClassification model from a BertForSequenceClassification model).\n"
     ]
    }
   ],
   "source": [
    "# create an instance of the model\n",
    "md1 = DisasterSentimentModel(num_labels1=2, num_labels2=3).to(device)\n",
    "md2 = DisasterSentimentModel(num_labels1=2, num_labels2=3).to(device)"
   ]
  },
  {
   "cell_type": "code",
   "execution_count": 21,
   "metadata": {
    "execution": {
     "iopub.execute_input": "2023-04-16T06:15:17.923590Z",
     "iopub.status.busy": "2023-04-16T06:15:17.922714Z",
     "iopub.status.idle": "2023-04-16T06:15:17.932439Z",
     "shell.execute_reply": "2023-04-16T06:15:17.931421Z",
     "shell.execute_reply.started": "2023-04-16T06:15:17.923547Z"
    },
    "id": "btdcI-9FLnB9"
   },
   "outputs": [],
   "source": [
    "# define optimizers and loss function\n",
    "optimizer1 = torch.optim.AdamW(md1.parameters(), lr=0.001)\n",
    "optimizer2 = torch.optim.AdamW(md2.parameters(), lr=0.001)\n",
    "loss_function1 = nn.CrossEntropyLoss()\n",
    "loss_function2 = nn.CrossEntropyLoss()"
   ]
  },
  {
   "cell_type": "code",
   "execution_count": 22,
   "metadata": {
    "execution": {
     "iopub.execute_input": "2023-04-16T06:15:17.934313Z",
     "iopub.status.busy": "2023-04-16T06:15:17.933920Z",
     "iopub.status.idle": "2023-04-16T06:15:18.021137Z",
     "shell.execute_reply": "2023-04-16T06:15:18.020021Z",
     "shell.execute_reply.started": "2023-04-16T06:15:17.934272Z"
    },
    "id": "6wTzlDhLLnB9"
   },
   "outputs": [],
   "source": [
    "# Create data loader for training data and val data for D1\n",
    "batch_size = 16\n",
    "train_data_d1 = torch.utils.data.TensorDataset(d1_train_tokens,\n",
    "                                               d1_train_attention_masks,\n",
    "                                               torch.tensor(d1_train['target'].values).type(torch.LongTensor))\n",
    "train_loader_d1 = torch.utils.data.DataLoader(train_data_d1, batch_size=batch_size, shuffle=False)\n",
    "\n",
    "val_data_d1 = torch.utils.data.TensorDataset(d1_val_tokens, \n",
    "                                             d1_val_attention_masks,\n",
    "                                             torch.tensor(d1_val['target'].values).type(torch.LongTensor))\n",
    "val_loader_d1 = torch.utils.data.DataLoader(val_data_d1, batch_size=batch_size, shuffle=False)"
   ]
  },
  {
   "cell_type": "code",
   "execution_count": 23,
   "metadata": {
    "execution": {
     "iopub.execute_input": "2023-04-16T06:15:18.023743Z",
     "iopub.status.busy": "2023-04-16T06:15:18.022672Z",
     "iopub.status.idle": "2023-04-16T06:15:18.033907Z",
     "shell.execute_reply": "2023-04-16T06:15:18.032862Z",
     "shell.execute_reply.started": "2023-04-16T06:15:18.023704Z"
    },
    "id": "O95NAkKhLnB9"
   },
   "outputs": [],
   "source": [
    "# Create data loader for training data and val data for D2\n",
    "batch_size = 16\n",
    "train_data_d2 = torch.utils.data.TensorDataset(d2_train_tokens,\n",
    "                                               d2_train_attention_masks,\n",
    "                                               torch.tensor(d2_train['target'].values).type(torch.LongTensor))\n",
    "train_loader_d2 = torch.utils.data.DataLoader(train_data_d2, batch_size=batch_size, shuffle=False)\n",
    "\n",
    "val_data_d2 = torch.utils.data.TensorDataset(d2_val_tokens, \n",
    "                                             d2_val_attention_masks,\n",
    "                                             torch.tensor(d2_val['target'].values).type(torch.LongTensor))\n",
    "val_loader_d2 = torch.utils.data.DataLoader(val_data_d2, batch_size=batch_size, shuffle=False)"
   ]
  },
  {
   "cell_type": "markdown",
   "metadata": {
    "id": "uZuyUFznLnB9"
   },
   "source": [
    "# 3. Neural Multi-Task Learning"
   ]
  },
  {
   "cell_type": "markdown",
   "metadata": {
    "id": "tl6Hdb_7LnB9"
   },
   "source": [
    "### i. Training model M only for T1 on D1 train"
   ]
  },
  {
   "cell_type": "code",
   "execution_count": 24,
   "metadata": {
    "colab": {
     "base_uri": "https://localhost:8080/"
    },
    "execution": {
     "iopub.execute_input": "2023-04-16T06:15:18.035914Z",
     "iopub.status.busy": "2023-04-16T06:15:18.035431Z",
     "iopub.status.idle": "2023-04-16T06:17:48.874273Z",
     "shell.execute_reply": "2023-04-16T06:17:48.873216Z",
     "shell.execute_reply.started": "2023-04-16T06:15:18.035872Z"
    },
    "id": "egbUCgtgLnB9",
    "outputId": "aa9e8976-0b7c-476c-c3e9-0de228bc435d"
   },
   "outputs": [
    {
     "name": "stdout",
     "output_type": "stream",
     "text": [
      "Epoch 1/3\n"
     ]
    },
    {
     "name": "stderr",
     "output_type": "stream",
     "text": [
      "100%|██████████| 381/381 [00:51<00:00,  7.44it/s]\n"
     ]
    },
    {
     "name": "stdout",
     "output_type": "stream",
     "text": [
      "\n",
      "Average training loss: 0.548082740757409\n",
      "Epoch 2/3\n"
     ]
    },
    {
     "name": "stderr",
     "output_type": "stream",
     "text": [
      "100%|██████████| 381/381 [00:49<00:00,  7.65it/s]\n"
     ]
    },
    {
     "name": "stdout",
     "output_type": "stream",
     "text": [
      "\n",
      "Average training loss: 0.5217827653165251\n",
      "Epoch 3/3\n"
     ]
    },
    {
     "name": "stderr",
     "output_type": "stream",
     "text": [
      "100%|██████████| 381/381 [00:49<00:00,  7.65it/s]"
     ]
    },
    {
     "name": "stdout",
     "output_type": "stream",
     "text": [
      "\n",
      "Average training loss: 0.5125597544855333\n"
     ]
    },
    {
     "name": "stderr",
     "output_type": "stream",
     "text": [
      "\n"
     ]
    }
   ],
   "source": [
    "# train md1 model\n",
    "epochs = 3\n",
    "\n",
    "# Train the model\n",
    "for epoch in range(epochs):\n",
    "    print(f'Epoch {epoch + 1}/{epochs}')\n",
    "    md1.train()\n",
    "    total_loss = 0\n",
    "    for batch in tqdm(train_loader_d1):\n",
    "        batch = tuple(t.to(device) for t in batch)\n",
    "        inputs = {'input_ids': batch[0], 'attention_mask': batch[1]}\n",
    "\n",
    "        optimizer1.zero_grad()\n",
    "\n",
    "        output1, output2 = md1(**inputs)\n",
    "        loss = loss_function1(output1, batch[2].view(-1))\n",
    "        total_loss += loss.item()\n",
    "\n",
    "        loss.backward()\n",
    "        optimizer1.step()\n",
    "    avg_loss = total_loss / len(train_loader_d1)\n",
    "    print(f'\\nAverage training loss: {avg_loss}')\n",
    "\n"
   ]
  },
  {
   "cell_type": "code",
   "execution_count": 25,
   "metadata": {
    "colab": {
     "base_uri": "https://localhost:8080/"
    },
    "execution": {
     "iopub.execute_input": "2023-04-16T06:17:48.876763Z",
     "iopub.status.busy": "2023-04-16T06:17:48.876049Z",
     "iopub.status.idle": "2023-04-16T06:18:00.812000Z",
     "shell.execute_reply": "2023-04-16T06:18:00.810914Z",
     "shell.execute_reply.started": "2023-04-16T06:17:48.876721Z"
    },
    "id": "_hNOO5JnLnB9",
    "outputId": "fc381dab-f1d4-4896-aee9-cb1d4a79e0f2"
   },
   "outputs": [
    {
     "name": "stderr",
     "output_type": "stream",
     "text": [
      "100%|██████████| 96/96 [00:11<00:00,  8.06it/s]"
     ]
    },
    {
     "name": "stdout",
     "output_type": "stream",
     "text": [
      "\n",
      "F1 Score for validation set: 0.7583274273564846\n"
     ]
    },
    {
     "name": "stderr",
     "output_type": "stream",
     "text": [
      "\n"
     ]
    }
   ],
   "source": [
    "# Evaluate the model\n",
    "md1.eval()\n",
    "preds = []\n",
    "labels = []\n",
    "for batch in tqdm(val_loader_d1):\n",
    "    batch = tuple(t.to(device) for t in batch)\n",
    "    with torch.no_grad():\n",
    "        inputs = {'input_ids': batch[0], 'attention_mask': batch[1]}\n",
    "        output1, output2 = md1(**inputs)\n",
    "        batch_preds = torch.argmax(output1, axis=1).detach().cpu().numpy().tolist()\n",
    "        batch_labels = batch[2].detach().cpu().numpy().tolist()\n",
    "        preds += batch_preds\n",
    "        labels += batch_labels\n",
    "\n",
    "# Calculate accuracy and print the result\n",
    "from sklearn.metrics import accuracy_score, f1_score, confusion_matrix, ConfusionMatrixDisplay\n",
    "f1 = f1_score(labels, preds)\n",
    "print(f'\\nF1 Score for validation set: {f1}')"
   ]
  },
  {
   "cell_type": "code",
   "execution_count": 26,
   "metadata": {
    "colab": {
     "base_uri": "https://localhost:8080/",
     "height": 449
    },
    "execution": {
     "iopub.execute_input": "2023-04-16T06:18:00.814818Z",
     "iopub.status.busy": "2023-04-16T06:18:00.813992Z",
     "iopub.status.idle": "2023-04-16T06:18:01.060195Z",
     "shell.execute_reply": "2023-04-16T06:18:01.059133Z",
     "shell.execute_reply.started": "2023-04-16T06:18:00.814777Z"
    },
    "id": "YMxNz69PLnB-",
    "outputId": "ce09cb3c-da68-48c6-ea51-3df23e5542f9"
   },
   "outputs": [
    {
     "data": {
      "image/png": "[encoded data removed]",
      "text/plain": [
       "<Figure size 640x480 with 2 Axes>"
      ]
     },
     "metadata": {},
     "output_type": "display_data"
    }
   ],
   "source": [
    "cm = confusion_matrix(labels, preds, labels=[0, 1])\n",
    "disp = ConfusionMatrixDisplay(confusion_matrix=cm,\n",
    "                                  display_labels=[0, 1])\n",
    "disp.plot(values_format = 'd')\n",
    "\n",
    "plt.show()"
   ]
  },
  {
   "cell_type": "code",
   "execution_count": null,
   "metadata": {
    "id": "krT37MboLnB-"
   },
   "outputs": [],
   "source": []
  },
  {
   "cell_type": "markdown",
   "metadata": {
    "id": "nN5sImG7LnB-"
   },
   "source": [
    "### ii. Training model M only for T2 on D2 train"
   ]
  },
  {
   "cell_type": "code",
   "execution_count": 27,
   "metadata": {
    "colab": {
     "base_uri": "https://localhost:8080/"
    },
    "execution": {
     "iopub.execute_input": "2023-04-16T06:18:01.062522Z",
     "iopub.status.busy": "2023-04-16T06:18:01.061854Z",
     "iopub.status.idle": "2023-04-16T06:26:59.894754Z",
     "shell.execute_reply": "2023-04-16T06:26:59.893621Z",
     "shell.execute_reply.started": "2023-04-16T06:18:01.062479Z"
    },
    "id": "k6OHy6MhLnB-",
    "outputId": "02b3be64-a05c-42b8-e11e-e7a936fb54ba"
   },
   "outputs": [
    {
     "name": "stdout",
     "output_type": "stream",
     "text": [
      "Epoch 1/3\n"
     ]
    },
    {
     "name": "stderr",
     "output_type": "stream",
     "text": [
      "100%|██████████| 1374/1374 [02:59<00:00,  7.65it/s]\n"
     ]
    },
    {
     "name": "stdout",
     "output_type": "stream",
     "text": [
      "\n",
      "Average training loss: 0.9446030945410028\n",
      "Epoch 2/3\n"
     ]
    },
    {
     "name": "stderr",
     "output_type": "stream",
     "text": [
      "100%|██████████| 1374/1374 [02:59<00:00,  7.65it/s]\n"
     ]
    },
    {
     "name": "stdout",
     "output_type": "stream",
     "text": [
      "\n",
      "Average training loss: 0.9143389739323912\n",
      "Epoch 3/3\n"
     ]
    },
    {
     "name": "stderr",
     "output_type": "stream",
     "text": [
      "100%|██████████| 1374/1374 [02:59<00:00,  7.65it/s]"
     ]
    },
    {
     "name": "stdout",
     "output_type": "stream",
     "text": [
      "\n",
      "Average training loss: 0.9060182485517977\n"
     ]
    },
    {
     "name": "stderr",
     "output_type": "stream",
     "text": [
      "\n"
     ]
    }
   ],
   "source": [
    "# train md2 model\n",
    "epochs = 3\n",
    "\n",
    "# Train the model\n",
    "for epoch in range(epochs):\n",
    "    print(f'Epoch {epoch + 1}/{epochs}')\n",
    "    md2.train()\n",
    "    total_loss = 0\n",
    "    for batch in tqdm(train_loader_d2):\n",
    "        batch = tuple(t.to(device) for t in batch)\n",
    "        inputs = {'input_ids': batch[0], 'attention_mask': batch[1]}\n",
    "\n",
    "        optimizer2.zero_grad()\n",
    "\n",
    "        output1, output2 = md2(**inputs)\n",
    "        loss = loss_function2(output2, batch[2].view(-1))\n",
    "        total_loss += loss.item()\n",
    "        loss.backward()\n",
    "        optimizer2.step()\n",
    "        \n",
    "    avg_loss = total_loss / len(train_loader_d2)\n",
    "    print(f'\\nAverage training loss: {avg_loss}')"
   ]
  },
  {
   "cell_type": "code",
   "execution_count": 28,
   "metadata": {
    "colab": {
     "base_uri": "https://localhost:8080/"
    },
    "execution": {
     "iopub.execute_input": "2023-04-16T06:26:59.905258Z",
     "iopub.status.busy": "2023-04-16T06:26:59.904688Z",
     "iopub.status.idle": "2023-04-16T06:27:42.802866Z",
     "shell.execute_reply": "2023-04-16T06:27:42.801830Z",
     "shell.execute_reply.started": "2023-04-16T06:26:59.905226Z"
    },
    "id": "-lVNG7DuLnB-",
    "outputId": "dec4fb10-0c5b-4cfb-feb2-3cd20ee38034"
   },
   "outputs": [
    {
     "name": "stderr",
     "output_type": "stream",
     "text": [
      "100%|██████████| 344/344 [00:42<00:00,  8.02it/s]"
     ]
    },
    {
     "name": "stdout",
     "output_type": "stream",
     "text": [
      "\n",
      "Accuracy Score for validation set: 0.5953420669577875\n"
     ]
    },
    {
     "name": "stderr",
     "output_type": "stream",
     "text": [
      "\n"
     ]
    }
   ],
   "source": [
    "# Evaluate the model\n",
    "md2.eval()\n",
    "preds = []\n",
    "labels = []\n",
    "for batch in tqdm(val_loader_d2):\n",
    "    batch = tuple(t.to(device) for t in batch)\n",
    "    with torch.no_grad():\n",
    "        inputs = {'input_ids': batch[0], 'attention_mask': batch[1]}\n",
    "        output1, output2 = md2(**inputs)\n",
    "        batch_preds = torch.argmax(output2, axis=1).detach().cpu().numpy().tolist()\n",
    "        batch_labels = batch[2].detach().cpu().numpy().tolist()\n",
    "        preds += batch_preds\n",
    "        labels += batch_labels\n",
    "\n",
    "# Calculate accuracy and print the result\n",
    "from sklearn.metrics import accuracy_score, f1_score\n",
    "acc = accuracy_score(labels, preds)\n",
    "print(f'\\nAccuracy Score for validation set: {acc}')"
   ]
  },
  {
   "cell_type": "code",
   "execution_count": 29,
   "metadata": {
    "colab": {
     "base_uri": "https://localhost:8080/",
     "height": 449
    },
    "execution": {
     "iopub.execute_input": "2023-04-16T06:27:42.805251Z",
     "iopub.status.busy": "2023-04-16T06:27:42.804572Z",
     "iopub.status.idle": "2023-04-16T06:27:43.047293Z",
     "shell.execute_reply": "2023-04-16T06:27:43.046300Z",
     "shell.execute_reply.started": "2023-04-16T06:27:42.805211Z"
    },
    "id": "bo0CUiaKLnB-",
    "outputId": "ace27ea8-2258-4df5-feef-305d658e9b5b"
   },
   "outputs": [
    {
     "data": {
      "image/png": "[encoded data removed]",
      "text/plain": [
       "<Figure size 640x480 with 2 Axes>"
      ]
     },
     "metadata": {},
     "output_type": "display_data"
    }
   ],
   "source": [
    "cm = confusion_matrix(labels, preds, labels=[0, 1, 2])\n",
    "disp = ConfusionMatrixDisplay(confusion_matrix=cm,\n",
    "                                  display_labels=[0, 1, 2])\n",
    "disp.plot(values_format = 'd')\n",
    "\n",
    "plt.show()"
   ]
  },
  {
   "cell_type": "code",
   "execution_count": null,
   "metadata": {
    "id": "msjBlWE3LnB-"
   },
   "outputs": [],
   "source": []
  },
  {
   "cell_type": "markdown",
   "metadata": {
    "id": "kujOW6yNLnB-"
   },
   "source": [
    "### iii. Estimate the sentiment labels for the tweets in D1 and creating the augmented dataset"
   ]
  },
  {
   "cell_type": "code",
   "execution_count": 30,
   "metadata": {
    "colab": {
     "base_uri": "https://localhost:8080/"
    },
    "execution": {
     "iopub.execute_input": "2023-04-16T06:27:43.049870Z",
     "iopub.status.busy": "2023-04-16T06:27:43.048795Z",
     "iopub.status.idle": "2023-04-16T06:28:42.485180Z",
     "shell.execute_reply": "2023-04-16T06:28:42.484031Z",
     "shell.execute_reply.started": "2023-04-16T06:27:43.049821Z"
    },
    "id": "sf9FrXCpLnB-",
    "outputId": "7e926a93-cf73-4f9f-9ed6-dcc9b817fe4d"
   },
   "outputs": [
    {
     "name": "stderr",
     "output_type": "stream",
     "text": [
      "100%|██████████| 381/381 [00:47<00:00,  8.01it/s]\n",
      "100%|██████████| 96/96 [00:11<00:00,  8.09it/s]\n"
     ]
    }
   ],
   "source": [
    "# get prediction on d1 train set\n",
    "d1_train_augmented = d1_train.copy()\n",
    "md2.eval()\n",
    "preds = []\n",
    "labels = []\n",
    "for batch in tqdm(train_loader_d1):\n",
    "    batch = tuple(t.to(device) for t in batch)\n",
    "    with torch.no_grad():\n",
    "        inputs = {'input_ids': batch[0], 'attention_mask': batch[1]}\n",
    "        output1, output2 = md2(**inputs)\n",
    "        batch_preds = torch.argmax(output2, axis=1).detach().cpu().numpy().tolist()\n",
    "        preds += batch_preds\n",
    "d1_train_augmented['predicted_sentiment_label'] = preds\n",
    "\n",
    "# get predictions on d1 validation set\n",
    "d1_val_augmented = d1_val.copy()\n",
    "md2.eval()\n",
    "preds = []\n",
    "labels = []\n",
    "for batch in tqdm(val_loader_d1):\n",
    "    batch = tuple(t.to(device) for t in batch)\n",
    "    with torch.no_grad():\n",
    "        inputs = {'input_ids': batch[0], 'attention_mask': batch[1]}\n",
    "        output1, output2 = md2(**inputs)\n",
    "        batch_preds = torch.argmax(output2, axis=1).detach().cpu().numpy().tolist()\n",
    "        preds += batch_preds\n",
    "d1_val_augmented['predicted_sentiment_label'] = preds\n"
   ]
  },
  {
   "cell_type": "code",
   "execution_count": 31,
   "metadata": {
    "execution": {
     "iopub.execute_input": "2023-04-16T06:28:42.487287Z",
     "iopub.status.busy": "2023-04-16T06:28:42.486718Z",
     "iopub.status.idle": "2023-04-16T06:28:42.515921Z",
     "shell.execute_reply": "2023-04-16T06:28:42.515006Z",
     "shell.execute_reply.started": "2023-04-16T06:28:42.487246Z"
    },
    "id": "XxnzgB7KC2iG"
   },
   "outputs": [],
   "source": [
    "d1_train_augmented.rename(columns={'target':'disaster_label'}).drop(columns=['input_ids']) \\\n",
    ".to_csv('./d1_train_augmented.csv', index=False)\n"
   ]
  },
  {
   "cell_type": "code",
   "execution_count": 32,
   "metadata": {
    "execution": {
     "iopub.execute_input": "2023-04-16T06:28:42.517677Z",
     "iopub.status.busy": "2023-04-16T06:28:42.517239Z",
     "iopub.status.idle": "2023-04-16T06:28:42.532425Z",
     "shell.execute_reply": "2023-04-16T06:28:42.530885Z",
     "shell.execute_reply.started": "2023-04-16T06:28:42.517638Z"
    },
    "id": "wOFYgIv5DMUC"
   },
   "outputs": [],
   "source": [
    "d1_val_augmented.rename(columns={'target':'disaster_label'}).drop(columns=['input_ids']) \\\n",
    ".to_csv('./d1_val_augmented.csv', index=False)\n"
   ]
  },
  {
   "cell_type": "code",
   "execution_count": 33,
   "metadata": {
    "colab": {
     "base_uri": "https://localhost:8080/",
     "height": 240
    },
    "execution": {
     "iopub.execute_input": "2023-04-16T06:28:42.534528Z",
     "iopub.status.busy": "2023-04-16T06:28:42.533938Z",
     "iopub.status.idle": "2023-04-16T06:28:42.551484Z",
     "shell.execute_reply": "2023-04-16T06:28:42.550448Z",
     "shell.execute_reply.started": "2023-04-16T06:28:42.534489Z"
    },
    "id": "ZsRL2HRtLnB_",
    "outputId": "d4824563-1afc-45dc-b182-2d3d7a625b35"
   },
   "outputs": [
    {
     "data": {
      "text/html": [
       "<div>\n",
       "<style scoped>\n",
       "    .dataframe tbody tr th:only-of-type {\n",
       "        vertical-align: middle;\n",
       "    }\n",
       "\n",
       "    .dataframe tbody tr th {\n",
       "        vertical-align: top;\n",
       "    }\n",
       "\n",
       "    .dataframe thead th {\n",
       "        text-align: right;\n",
       "    }\n",
       "</style>\n",
       "<table border=\"1\" class=\"dataframe\">\n",
       "  <thead>\n",
       "    <tr style=\"text-align: right;\">\n",
       "      <th></th>\n",
       "      <th>text</th>\n",
       "      <th>disaster_label</th>\n",
       "      <th>predicted_sentiment_label</th>\n",
       "    </tr>\n",
       "  </thead>\n",
       "  <tbody>\n",
       "    <tr>\n",
       "      <th>6236</th>\n",
       "      <td>New #photo Oak in a snowstorm http://t.co/HK9Y...</td>\n",
       "      <td>1</td>\n",
       "      <td>0</td>\n",
       "    </tr>\n",
       "    <tr>\n",
       "      <th>5690</th>\n",
       "      <td>'You can only be rescued from where you actual...</td>\n",
       "      <td>0</td>\n",
       "      <td>0</td>\n",
       "    </tr>\n",
       "    <tr>\n",
       "      <th>3151</th>\n",
       "      <td>@runner_joy yes; especially new clients that w...</td>\n",
       "      <td>0</td>\n",
       "      <td>2</td>\n",
       "    </tr>\n",
       "    <tr>\n",
       "      <th>3753</th>\n",
       "      <td>Dear @CanonUSAimaging I brought it ;) #CanonBr...</td>\n",
       "      <td>0</td>\n",
       "      <td>0</td>\n",
       "    </tr>\n",
       "    <tr>\n",
       "      <th>703</th>\n",
       "      <td>**Let - Me - Be - Your - Hot - Blazing - Fanta...</td>\n",
       "      <td>0</td>\n",
       "      <td>1</td>\n",
       "    </tr>\n",
       "  </tbody>\n",
       "</table>\n",
       "</div>"
      ],
      "text/plain": [
       "                                                   text  disaster_label  \\\n",
       "6236  New #photo Oak in a snowstorm http://t.co/HK9Y...               1   \n",
       "5690  'You can only be rescued from where you actual...               0   \n",
       "3151  @runner_joy yes; especially new clients that w...               0   \n",
       "3753  Dear @CanonUSAimaging I brought it ;) #CanonBr...               0   \n",
       "703   **Let - Me - Be - Your - Hot - Blazing - Fanta...               0   \n",
       "\n",
       "      predicted_sentiment_label  \n",
       "6236                          0  \n",
       "5690                          0  \n",
       "3151                          2  \n",
       "3753                          0  \n",
       "703                           1  "
      ]
     },
     "execution_count": 33,
     "metadata": {},
     "output_type": "execute_result"
    }
   ],
   "source": [
    "# concatenate train and validation augmented datasets to form augmented dataset\n",
    "d1_augmented = pd.concat([d1_train_augmented, d1_val_augmented], axis=0).rename(columns={'target':'disaster_label'}) \\\n",
    ".drop(columns=['input_ids'])\n",
    "d1_augmented['disaster_label'] = d1_augmented['disaster_label'].astype(int)\n",
    "d1_augmented.head()"
   ]
  },
  {
   "cell_type": "code",
   "execution_count": 34,
   "metadata": {
    "execution": {
     "iopub.execute_input": "2023-04-16T06:28:42.553332Z",
     "iopub.status.busy": "2023-04-16T06:28:42.552946Z",
     "iopub.status.idle": "2023-04-16T06:28:42.558784Z",
     "shell.execute_reply": "2023-04-16T06:28:42.557759Z",
     "shell.execute_reply.started": "2023-04-16T06:28:42.553293Z"
    },
    "id": "IrNcMzbBLnB_"
   },
   "outputs": [],
   "source": [
    "# d1_augmented.to_csv(\"d1_augmented.csv\", index=False)"
   ]
  },
  {
   "cell_type": "code",
   "execution_count": null,
   "metadata": {
    "id": "cIIKgpv4LnB_"
   },
   "outputs": [],
   "source": []
  },
  {
   "cell_type": "code",
   "execution_count": 35,
   "metadata": {
    "execution": {
     "iopub.execute_input": "2023-04-16T06:28:42.561651Z",
     "iopub.status.busy": "2023-04-16T06:28:42.560550Z",
     "iopub.status.idle": "2023-04-16T06:28:42.911172Z",
     "shell.execute_reply": "2023-04-16T06:28:42.910122Z",
     "shell.execute_reply.started": "2023-04-16T06:28:42.561614Z"
    },
    "id": "z9CquMRwLnB_"
   },
   "outputs": [],
   "source": [
    "# get attention masks and store in original datasets\n",
    "d1_train['attention_masks'] = [i for i in d1_train_attention_masks]\n",
    "d1_val['attention_masks'] = [i for i in d1_val_attention_masks]\n",
    "d2_train['attention_masks'] = [i for i in d2_train_attention_masks]\n",
    "d2_val['attention_masks'] = [i for i in d2_val_attention_masks]"
   ]
  },
  {
   "cell_type": "code",
   "execution_count": 36,
   "metadata": {
    "colab": {
     "base_uri": "https://localhost:8080/",
     "height": 112
    },
    "execution": {
     "iopub.execute_input": "2023-04-16T06:28:42.913090Z",
     "iopub.status.busy": "2023-04-16T06:28:42.912714Z",
     "iopub.status.idle": "2023-04-16T06:28:42.971567Z",
     "shell.execute_reply": "2023-04-16T06:28:42.970534Z",
     "shell.execute_reply.started": "2023-04-16T06:28:42.913050Z"
    },
    "id": "5EMxY1WYLnB_",
    "outputId": "eae705ee-d125-4fe8-a2b2-8578586ab371"
   },
   "outputs": [
    {
     "data": {
      "text/html": [
       "<div>\n",
       "<style scoped>\n",
       "    .dataframe tbody tr th:only-of-type {\n",
       "        vertical-align: middle;\n",
       "    }\n",
       "\n",
       "    .dataframe tbody tr th {\n",
       "        vertical-align: top;\n",
       "    }\n",
       "\n",
       "    .dataframe thead th {\n",
       "        text-align: right;\n",
       "    }\n",
       "</style>\n",
       "<table border=\"1\" class=\"dataframe\">\n",
       "  <thead>\n",
       "    <tr style=\"text-align: right;\">\n",
       "      <th></th>\n",
       "      <th>text</th>\n",
       "      <th>input_ids</th>\n",
       "      <th>target</th>\n",
       "      <th>attention_masks</th>\n",
       "    </tr>\n",
       "  </thead>\n",
       "  <tbody>\n",
       "    <tr>\n",
       "      <th>6236</th>\n",
       "      <td>New #photo Oak in a snowstorm http://t.co/HK9Y...</td>\n",
       "      <td>[[tensor(101), tensor(2047), tensor(1001), ten...</td>\n",
       "      <td>1.0</td>\n",
       "      <td>[tensor(1), tensor(1), tensor(1), tensor(1), t...</td>\n",
       "    </tr>\n",
       "    <tr>\n",
       "      <th>5690</th>\n",
       "      <td>'You can only be rescued from where you actual...</td>\n",
       "      <td>[[tensor(101), tensor(1005), tensor(2017), ten...</td>\n",
       "      <td>0.0</td>\n",
       "      <td>[tensor(1), tensor(1), tensor(1), tensor(1), t...</td>\n",
       "    </tr>\n",
       "  </tbody>\n",
       "</table>\n",
       "</div>"
      ],
      "text/plain": [
       "                                                   text  \\\n",
       "6236  New #photo Oak in a snowstorm http://t.co/HK9Y...   \n",
       "5690  'You can only be rescued from where you actual...   \n",
       "\n",
       "                                              input_ids  target  \\\n",
       "6236  [[tensor(101), tensor(2047), tensor(1001), ten...     1.0   \n",
       "5690  [[tensor(101), tensor(1005), tensor(2017), ten...     0.0   \n",
       "\n",
       "                                        attention_masks  \n",
       "6236  [tensor(1), tensor(1), tensor(1), tensor(1), t...  \n",
       "5690  [tensor(1), tensor(1), tensor(1), tensor(1), t...  "
      ]
     },
     "execution_count": 36,
     "metadata": {},
     "output_type": "execute_result"
    }
   ],
   "source": [
    "d1_train.head(2)"
   ]
  },
  {
   "cell_type": "markdown",
   "metadata": {
    "id": "ZjbDoClVLnB_"
   },
   "source": [
    "### iv. Creating dataset D12"
   ]
  },
  {
   "cell_type": "code",
   "execution_count": 37,
   "metadata": {
    "colab": {
     "base_uri": "https://localhost:8080/",
     "height": 206
    },
    "execution": {
     "iopub.execute_input": "2023-04-16T06:28:42.974159Z",
     "iopub.status.busy": "2023-04-16T06:28:42.973371Z",
     "iopub.status.idle": "2023-04-16T06:28:42.998922Z",
     "shell.execute_reply": "2023-04-16T06:28:42.997351Z",
     "shell.execute_reply.started": "2023-04-16T06:28:42.974120Z"
    },
    "id": "Uh5_6np0LnB_",
    "outputId": "6e0fefe0-93fa-4984-97e1-704052c91495"
   },
   "outputs": [
    {
     "data": {
      "text/html": [
       "<div>\n",
       "<style scoped>\n",
       "    .dataframe tbody tr th:only-of-type {\n",
       "        vertical-align: middle;\n",
       "    }\n",
       "\n",
       "    .dataframe tbody tr th {\n",
       "        vertical-align: top;\n",
       "    }\n",
       "\n",
       "    .dataframe thead th {\n",
       "        text-align: right;\n",
       "    }\n",
       "</style>\n",
       "<table border=\"1\" class=\"dataframe\">\n",
       "  <thead>\n",
       "    <tr style=\"text-align: right;\">\n",
       "      <th></th>\n",
       "      <th>text</th>\n",
       "      <th>disaster_label</th>\n",
       "      <th>predicted_sentiment_label</th>\n",
       "    </tr>\n",
       "  </thead>\n",
       "  <tbody>\n",
       "    <tr>\n",
       "      <th>6236</th>\n",
       "      <td>New #photo Oak in a snowstorm http://t.co/HK9Y...</td>\n",
       "      <td>1.0</td>\n",
       "      <td>NaN</td>\n",
       "    </tr>\n",
       "    <tr>\n",
       "      <th>5690</th>\n",
       "      <td>'You can only be rescued from where you actual...</td>\n",
       "      <td>0.0</td>\n",
       "      <td>NaN</td>\n",
       "    </tr>\n",
       "    <tr>\n",
       "      <th>3151</th>\n",
       "      <td>@runner_joy yes; especially new clients that w...</td>\n",
       "      <td>0.0</td>\n",
       "      <td>NaN</td>\n",
       "    </tr>\n",
       "    <tr>\n",
       "      <th>3753</th>\n",
       "      <td>Dear @CanonUSAimaging I brought it ;) #CanonBr...</td>\n",
       "      <td>0.0</td>\n",
       "      <td>NaN</td>\n",
       "    </tr>\n",
       "    <tr>\n",
       "      <th>703</th>\n",
       "      <td>**Let - Me - Be - Your - Hot - Blazing - Fanta...</td>\n",
       "      <td>0.0</td>\n",
       "      <td>NaN</td>\n",
       "    </tr>\n",
       "  </tbody>\n",
       "</table>\n",
       "</div>"
      ],
      "text/plain": [
       "                                                   text  disaster_label  \\\n",
       "6236  New #photo Oak in a snowstorm http://t.co/HK9Y...             1.0   \n",
       "5690  'You can only be rescued from where you actual...             0.0   \n",
       "3151  @runner_joy yes; especially new clients that w...             0.0   \n",
       "3753  Dear @CanonUSAimaging I brought it ;) #CanonBr...             0.0   \n",
       "703   **Let - Me - Be - Your - Hot - Blazing - Fanta...             0.0   \n",
       "\n",
       "      predicted_sentiment_label  \n",
       "6236                        NaN  \n",
       "5690                        NaN  \n",
       "3151                        NaN  \n",
       "3753                        NaN  \n",
       "703                         NaN  "
      ]
     },
     "execution_count": 37,
     "metadata": {},
     "output_type": "execute_result"
    }
   ],
   "source": [
    "# concatenate both train datasets to create dataset for Multi-Task Learning\n",
    "d12_train = pd.concat([d1_train.rename(columns={'target':'disaster_label'}), \n",
    "                       d2_train.rename(columns={'target':'predicted_sentiment_label'})], \n",
    "                      axis=0)\n",
    "\n",
    "d12_train[['text', 'disaster_label', 'predicted_sentiment_label']].head()"
   ]
  },
  {
   "cell_type": "code",
   "execution_count": 38,
   "metadata": {
    "colab": {
     "base_uri": "https://localhost:8080/",
     "height": 206
    },
    "execution": {
     "iopub.execute_input": "2023-04-16T06:28:43.001005Z",
     "iopub.status.busy": "2023-04-16T06:28:43.000573Z",
     "iopub.status.idle": "2023-04-16T06:28:43.012829Z",
     "shell.execute_reply": "2023-04-16T06:28:43.011705Z",
     "shell.execute_reply.started": "2023-04-16T06:28:43.000965Z"
    },
    "id": "Pqmq0XKwLnB_",
    "outputId": "d122e768-8fc2-4362-c4fa-e7c3a1d1bf26"
   },
   "outputs": [
    {
     "data": {
      "text/html": [
       "<div>\n",
       "<style scoped>\n",
       "    .dataframe tbody tr th:only-of-type {\n",
       "        vertical-align: middle;\n",
       "    }\n",
       "\n",
       "    .dataframe tbody tr th {\n",
       "        vertical-align: top;\n",
       "    }\n",
       "\n",
       "    .dataframe thead th {\n",
       "        text-align: right;\n",
       "    }\n",
       "</style>\n",
       "<table border=\"1\" class=\"dataframe\">\n",
       "  <thead>\n",
       "    <tr style=\"text-align: right;\">\n",
       "      <th></th>\n",
       "      <th>text</th>\n",
       "      <th>disaster_label</th>\n",
       "      <th>predicted_sentiment_label</th>\n",
       "    </tr>\n",
       "  </thead>\n",
       "  <tbody>\n",
       "    <tr>\n",
       "      <th>6050</th>\n",
       "      <td>feelin lonely now after spendin the last 50 ho...</td>\n",
       "      <td>NaN</td>\n",
       "      <td>1.0</td>\n",
       "    </tr>\n",
       "    <tr>\n",
       "      <th>19128</th>\n",
       "      <td>I`m not comfortable with this announcement.</td>\n",
       "      <td>NaN</td>\n",
       "      <td>1.0</td>\n",
       "    </tr>\n",
       "    <tr>\n",
       "      <th>14791</th>\n",
       "      <td>_x Haha, You sound like lizzie :L she`s got a ...</td>\n",
       "      <td>NaN</td>\n",
       "      <td>1.0</td>\n",
       "    </tr>\n",
       "    <tr>\n",
       "      <th>22042</th>\n",
       "      <td>Getting back my English minor exam soon. dum d...</td>\n",
       "      <td>NaN</td>\n",
       "      <td>2.0</td>\n",
       "    </tr>\n",
       "    <tr>\n",
       "      <th>21336</th>\n",
       "      <td>Every element in the DOM with children is a si...</td>\n",
       "      <td>NaN</td>\n",
       "      <td>0.0</td>\n",
       "    </tr>\n",
       "  </tbody>\n",
       "</table>\n",
       "</div>"
      ],
      "text/plain": [
       "                                                    text  disaster_label  \\\n",
       "6050   feelin lonely now after spendin the last 50 ho...             NaN   \n",
       "19128        I`m not comfortable with this announcement.             NaN   \n",
       "14791  _x Haha, You sound like lizzie :L she`s got a ...             NaN   \n",
       "22042  Getting back my English minor exam soon. dum d...             NaN   \n",
       "21336  Every element in the DOM with children is a si...             NaN   \n",
       "\n",
       "       predicted_sentiment_label  \n",
       "6050                         1.0  \n",
       "19128                        1.0  \n",
       "14791                        1.0  \n",
       "22042                        2.0  \n",
       "21336                        0.0  "
      ]
     },
     "execution_count": 38,
     "metadata": {},
     "output_type": "execute_result"
    }
   ],
   "source": [
    "d12_train[['text', 'disaster_label', 'predicted_sentiment_label']].tail()"
   ]
  },
  {
   "cell_type": "code",
   "execution_count": 39,
   "metadata": {
    "colab": {
     "base_uri": "https://localhost:8080/",
     "height": 514
    },
    "execution": {
     "iopub.execute_input": "2023-04-16T06:28:43.015070Z",
     "iopub.status.busy": "2023-04-16T06:28:43.014460Z",
     "iopub.status.idle": "2023-04-16T06:28:43.591640Z",
     "shell.execute_reply": "2023-04-16T06:28:43.590571Z",
     "shell.execute_reply.started": "2023-04-16T06:28:43.015029Z"
    },
    "id": "CWrZA6HPLnB_",
    "outputId": "5355814c-1f7e-4bc6-9c75-80b2b244f82e"
   },
   "outputs": [],
   "source": [
    "# Create data loader for Multi-Task Learning\n",
    "batch_size = 64\n",
    "\n",
    "input_ids = torch.from_numpy(np.vstack(d12_train['input_ids'].values))\n",
    "attention_masks = torch.from_numpy(np.vstack(d12_train['attention_masks'].values))\n",
    "disaster_label = torch.from_numpy(np.vstack(d12_train['disaster_label'].values))\n",
    "predicted_sentiment_label = torch.from_numpy(np.vstack(d12_train['predicted_sentiment_label'].values))\n",
    "\n",
    "train_data_d12 = torch.utils.data.TensorDataset(input_ids,\n",
    "                                                attention_masks,\n",
    "                                                disaster_label,\n",
    "                                                predicted_sentiment_label)\n",
    "\n",
    "train_loader_d12 = torch.utils.data.DataLoader(train_data_d12, batch_size=batch_size, shuffle=True)"
   ]
  },
  {
   "cell_type": "markdown",
   "metadata": {
    "id": "EgRhSXBHLnB_"
   },
   "source": [
    "### v. We want to train M for both T1 and T2 on D12 by minimizing a weighted loss λ1 * l1 + λ2 * l2"
   ]
  },
  {
   "cell_type": "code",
   "execution_count": 40,
   "metadata": {
    "execution": {
     "iopub.execute_input": "2023-04-16T06:28:43.597503Z",
     "iopub.status.busy": "2023-04-16T06:28:43.597093Z",
     "iopub.status.idle": "2023-04-16T06:28:43.632769Z",
     "shell.execute_reply": "2023-04-16T06:28:43.631868Z",
     "shell.execute_reply.started": "2023-04-16T06:28:43.597464Z"
    },
    "id": "48NBDZ2iLnB_"
   },
   "outputs": [],
   "source": [
    "# create helper function for training and evaluation for Multi-Task learning\n",
    "def mtl_train(model, dataloader, max_epochs, lambda1, lambda2, print_loss=False):\n",
    "    # define optimizer\n",
    "    optimizer = torch.optim.AdamW(model.parameters(), lr=0.001)\n",
    "    \n",
    "    # define loss function\n",
    "    loss_function = nn.CrossEntropyLoss()\n",
    "    # Train the model\n",
    "    for epoch in range(max_epochs):\n",
    "        model.train()\n",
    "        total_loss = 0\n",
    "        for batch in tqdm(dataloader):\n",
    "            batch = tuple(t.to(device) for t in batch)\n",
    "\n",
    "            input_ids, attention_masks, disaster_label, sentiment_label = batch\n",
    "\n",
    "            disaster_label = disaster_label.flatten()\n",
    "            disaster_mask = ~torch.isnan(disaster_label)\n",
    "            disaster_indices = torch.arange(len(disaster_label)).to(device)[disaster_mask]\n",
    "\n",
    "            sentiment_label = sentiment_label.flatten()\n",
    "            sentiment_mask = ~torch.isnan(sentiment_label)\n",
    "            sentiment_indices = torch.arange(len(sentiment_label)).to(device)[sentiment_mask]\n",
    "\n",
    "            disaster_inputs = {'input_ids': input_ids[disaster_indices], \n",
    "                               'attention_mask': attention_masks[disaster_indices]}\n",
    "\n",
    "            sentiment_inputs = {'input_ids': input_ids[sentiment_indices], \n",
    "                                'attention_mask': attention_masks[sentiment_indices]}\n",
    "\n",
    "            disaster_label = disaster_label[disaster_indices].type(torch.LongTensor).to(device)\n",
    "            sentiment_label = sentiment_label[sentiment_indices].type(torch.LongTensor).to(device)\n",
    "\n",
    "            optimizer.zero_grad()\n",
    "\n",
    "            disaster_output, _ = model(**disaster_inputs)\n",
    "            _, sentiment_output = model(**sentiment_inputs)\n",
    "\n",
    "            loss1 = loss_function(disaster_output, disaster_label)\n",
    "            loss2 = loss_function(sentiment_output, sentiment_label)\n",
    "\n",
    "            loss = lambda1 * loss1 + lambda2 * loss2\n",
    "\n",
    "            total_loss += loss.item()\n",
    "            loss.backward()\n",
    "            optimizer.step()\n",
    "\n",
    "        if print_loss:\n",
    "            print(f'loss at epoch {epoch+1} = {total_loss/len(dataloader)}')\n",
    "            \n",
    "def mtl_evaluate(model, dataloader, return_t2_perf=False, return_labels=False):\n",
    "    # get prediction on val set\n",
    "    model.eval()\n",
    "    disaster_preds = []\n",
    "    disaster_labels = []\n",
    "    sentiment_preds = []\n",
    "    sentiment_labels = []\n",
    "    for batch in tqdm(dataloader):\n",
    "        batch = tuple(t.to(device) for t in batch)\n",
    "\n",
    "        if return_t2_perf:\n",
    "            input_ids, attention_masks, disaster_label, predicted_sentiment_label = batch\n",
    "        else:\n",
    "            input_ids, attention_masks, disaster_label, _ = batch\n",
    "        with torch.no_grad():\n",
    "            inputs = {'input_ids': input_ids, 'attention_mask': attention_masks}\n",
    "            output1, output2 = model(**inputs)\n",
    "\n",
    "            batch_disaster_preds = torch.argmax(output1, axis=1).detach().cpu().numpy().tolist()\n",
    "            disaster_preds += batch_disaster_preds\n",
    "            disaster_labels += disaster_label.cpu().numpy().flatten().tolist()\n",
    "            \n",
    "            if return_t2_perf:\n",
    "                batch_sentiment_preds = torch.argmax(output2, axis=1).detach().cpu().numpy().tolist()\n",
    "                sentiment_preds += batch_sentiment_preds\n",
    "                sentiment_labels += predicted_sentiment_label.cpu().numpy().flatten().tolist()\n",
    "    \n",
    "    if return_t2_perf:\n",
    "        print(\"Perf T1 - F1 score:\", f1_score(disaster_labels, disaster_preds))\n",
    "        print(\"Perf T2 - Accuracy score:\", accuracy_score(sentiment_labels, sentiment_preds))\n",
    "        if return_labels:\n",
    "            return disaster_labels, disaster_preds, sentiment_labels, sentiment_preds\n",
    "        else:\n",
    "            return f1_score(disaster_labels, disaster_preds), accuracy_score(sentiment_labels, sentiment_preds)\n",
    "    \n",
    "    else:\n",
    "        print(\"Perf T1 - F1 score:\", f1_score(disaster_labels, disaster_preds))\n",
    "        if return_labels:\n",
    "            return disaster_labels, disaster_preds\n",
    "        else:\n",
    "            return f1_score(disaster_labels, disaster_preds)"
   ]
  },
  {
   "cell_type": "code",
   "execution_count": 41,
   "metadata": {
    "colab": {
     "base_uri": "https://localhost:8080/"
    },
    "execution": {
     "iopub.execute_input": "2023-04-16T06:28:43.634596Z",
     "iopub.status.busy": "2023-04-16T06:28:43.634254Z",
     "iopub.status.idle": "2023-04-16T06:39:35.062097Z",
     "shell.execute_reply": "2023-04-16T06:39:35.061024Z",
     "shell.execute_reply.started": "2023-04-16T06:28:43.634568Z"
    },
    "id": "1rWPykJuLnCA",
    "outputId": "842a012e-962e-4047-8f43-e6aa6ccf3009"
   },
   "outputs": [
    {
     "name": "stderr",
     "output_type": "stream",
     "text": [
      "Some weights of the model checkpoint at bert-base-uncased were not used when initializing BertModel: ['cls.predictions.bias', 'cls.predictions.transform.LayerNorm.weight', 'cls.seq_relationship.bias', 'cls.seq_relationship.weight', 'cls.predictions.transform.dense.bias', 'cls.predictions.transform.LayerNorm.bias', 'cls.predictions.transform.dense.weight', 'cls.predictions.decoder.weight']\n",
      "- This IS expected if you are initializing BertModel from the checkpoint of a model trained on another task or with another architecture (e.g. initializing a BertForSequenceClassification model from a BertForPreTraining model).\n",
      "- This IS NOT expected if you are initializing BertModel from the checkpoint of a model that you expect to be exactly identical (initializing a BertForSequenceClassification model from a BertForSequenceClassification model).\n",
      "100%|██████████| 439/439 [03:36<00:00,  2.03it/s]\n"
     ]
    },
    {
     "name": "stdout",
     "output_type": "stream",
     "text": [
      "loss at epoch 1 = 0.7450459146010848\n"
     ]
    },
    {
     "name": "stderr",
     "output_type": "stream",
     "text": [
      "100%|██████████| 439/439 [03:36<00:00,  2.03it/s]\n"
     ]
    },
    {
     "name": "stdout",
     "output_type": "stream",
     "text": [
      "loss at epoch 2 = 0.7153781327951471\n"
     ]
    },
    {
     "name": "stderr",
     "output_type": "stream",
     "text": [
      "100%|██████████| 439/439 [03:36<00:00,  2.03it/s]"
     ]
    },
    {
     "name": "stdout",
     "output_type": "stream",
     "text": [
      "loss at epoch 3 = 0.7087965304867825\n"
     ]
    },
    {
     "name": "stderr",
     "output_type": "stream",
     "text": [
      "\n"
     ]
    }
   ],
   "source": [
    "# define new model to train on both disaster and sentiment labels\n",
    "md12 = DisasterSentimentModel(num_labels1=2, num_labels2=3).to(device)\n",
    "lambda1 = lambda2 = 0.5\n",
    "mtl_train(md12, train_loader_d12, 3, lambda1, lambda2, True)"
   ]
  },
  {
   "cell_type": "code",
   "execution_count": 42,
   "metadata": {
    "colab": {
     "base_uri": "https://localhost:8080/",
     "height": 240
    },
    "execution": {
     "iopub.execute_input": "2023-04-16T06:39:35.064744Z",
     "iopub.status.busy": "2023-04-16T06:39:35.063946Z",
     "iopub.status.idle": "2023-04-16T06:39:35.102156Z",
     "shell.execute_reply": "2023-04-16T06:39:35.101258Z",
     "shell.execute_reply.started": "2023-04-16T06:39:35.064704Z"
    },
    "id": "gGBvekKjLnCA",
    "outputId": "3695ec79-befb-4ca1-9cfc-cb4bdcd03a37"
   },
   "outputs": [],
   "source": [
    "# get attention masks for augmented dataset\n",
    "d1_val_augmented['attention_masks'] = d1_val['attention_masks']\n",
    "\n",
    "# create new dataloader for augmented val dataset\n",
    "batch_size = 32\n",
    "\n",
    "input_ids = torch.from_numpy(np.vstack(d1_val_augmented['input_ids'].values))\n",
    "attention_masks = torch.from_numpy(np.vstack(d1_val_augmented['attention_masks'].values))\n",
    "disaster_label = torch.from_numpy(np.vstack(d1_val_augmented['target'].values))\n",
    "predicted_sentiment_label = torch.from_numpy(np.vstack(d1_val_augmented['predicted_sentiment_label'].values))\n",
    "\n",
    "val_data_d1_augmented = torch.utils.data.TensorDataset(input_ids,\n",
    "                                                attention_masks,\n",
    "                                                disaster_label,\n",
    "                                                predicted_sentiment_label)\n",
    "\n",
    "val_loader_d1_augmented = torch.utils.data.DataLoader(val_data_d1_augmented, batch_size=batch_size, shuffle=False)"
   ]
  },
  {
   "cell_type": "code",
   "execution_count": 43,
   "metadata": {
    "colab": {
     "base_uri": "https://localhost:8080/"
    },
    "execution": {
     "iopub.execute_input": "2023-04-16T06:39:35.103978Z",
     "iopub.status.busy": "2023-04-16T06:39:35.103615Z",
     "iopub.status.idle": "2023-04-16T06:39:46.472157Z",
     "shell.execute_reply": "2023-04-16T06:39:46.471048Z",
     "shell.execute_reply.started": "2023-04-16T06:39:35.103942Z"
    },
    "id": "hwdWttexLnCA",
    "outputId": "9601de3b-f14c-40b9-d8a1-ec672844d25c"
   },
   "outputs": [
    {
     "name": "stderr",
     "output_type": "stream",
     "text": [
      "100%|██████████| 48/48 [00:11<00:00,  4.23it/s]"
     ]
    },
    {
     "name": "stdout",
     "output_type": "stream",
     "text": [
      "Perf T1 - F1 score: 0.709433962264151\n",
      "Perf T2 - Accuracy score: 0.629021667760998\n"
     ]
    },
    {
     "name": "stderr",
     "output_type": "stream",
     "text": [
      "\n"
     ]
    }
   ],
   "source": [
    "disaster_labels, disaster_preds, sentiment_labels, sentiment_preds = mtl_evaluate(md12, \n",
    "                                                                                  val_loader_d1_augmented, \n",
    "                                                                                  return_t2_perf=True, \n",
    "                                                                                  return_labels=True)\n"
   ]
  },
  {
   "cell_type": "code",
   "execution_count": 44,
   "metadata": {
    "colab": {
     "base_uri": "https://localhost:8080/",
     "height": 472
    },
    "execution": {
     "iopub.execute_input": "2023-04-16T06:39:46.474938Z",
     "iopub.status.busy": "2023-04-16T06:39:46.473790Z",
     "iopub.status.idle": "2023-04-16T06:39:46.721029Z",
     "shell.execute_reply": "2023-04-16T06:39:46.719997Z",
     "shell.execute_reply.started": "2023-04-16T06:39:46.474887Z"
    },
    "id": "K1OOIWJzLnCA",
    "outputId": "28ed8534-8b1d-4895-dde2-e0f25fde068a"
   },
   "outputs": [
    {
     "data": {
      "image/png": "[encoded data removed]",
      "text/plain": [
       "<Figure size 640x480 with 2 Axes>"
      ]
     },
     "metadata": {},
     "output_type": "display_data"
    }
   ],
   "source": [
    "# get confusion matrix for disaster labels\n",
    "cm = confusion_matrix(disaster_labels, disaster_preds, labels=[0, 1])\n",
    "disp = ConfusionMatrixDisplay(confusion_matrix=cm,\n",
    "                                  display_labels=[0, 1])\n",
    "disp.plot(values_format = 'd')\n",
    "plt.title(\"Confusion Matrix for Disaster Predictions - T1 Performance\")\n",
    "\n",
    "plt.show()"
   ]
  },
  {
   "cell_type": "code",
   "execution_count": 45,
   "metadata": {
    "colab": {
     "base_uri": "https://localhost:8080/",
     "height": 472
    },
    "execution": {
     "iopub.execute_input": "2023-04-16T06:39:46.722876Z",
     "iopub.status.busy": "2023-04-16T06:39:46.722418Z",
     "iopub.status.idle": "2023-04-16T06:39:46.972810Z",
     "shell.execute_reply": "2023-04-16T06:39:46.971670Z",
     "shell.execute_reply.started": "2023-04-16T06:39:46.722836Z"
    },
    "id": "DbHymWhBLnCA",
    "outputId": "a1447d89-eea6-4fd0-e13d-e90f705f80b9"
   },
   "outputs": [
    {
     "data": {
      "image/png": "[encoded data removed]",
      "text/plain": [
       "<Figure size 640x480 with 2 Axes>"
      ]
     },
     "metadata": {},
     "output_type": "display_data"
    }
   ],
   "source": [
    "# get confusion matrix for sentiment labels\n",
    "cm = confusion_matrix(sentiment_labels, sentiment_preds, labels=[0, 1, 2])\n",
    "disp = ConfusionMatrixDisplay(confusion_matrix=cm,\n",
    "                                  display_labels=[0, 1, 2])\n",
    "disp.plot(values_format = 'd')\n",
    "plt.title(\"Confusion Matrix for Disaster Predictions - T2 Performance\")\n",
    "\n",
    "plt.show()"
   ]
  },
  {
   "cell_type": "markdown",
   "metadata": {
    "id": "D-UVLLUVLnCA"
   },
   "source": [
    "### vi. Obtaining the best values of the hyper-parameters λ1,λ2"
   ]
  },
  {
   "cell_type": "code",
   "execution_count": 46,
   "metadata": {
    "colab": {
     "base_uri": "https://localhost:8080/"
    },
    "execution": {
     "iopub.execute_input": "2023-04-16T06:39:46.975052Z",
     "iopub.status.busy": "2023-04-16T06:39:46.974390Z",
     "iopub.status.idle": "2023-04-16T06:40:00.640750Z",
     "shell.execute_reply": "2023-04-16T06:40:00.639550Z",
     "shell.execute_reply.started": "2023-04-16T06:39:46.975013Z"
    },
    "id": "Vj_WOYnFLnCA",
    "outputId": "fe2373f7-3b29-4c6b-846f-45f896aa44f7"
   },
   "outputs": [
    {
     "name": "stdout",
     "output_type": "stream",
     "text": [
      "Collecting ax-platform\n",
      "  Downloading ax_platform-0.2.6-py3-none-any.whl (1.0 MB)\n",
      "\u001b[2K     \u001b[90m━━━━━━━━━━━━━━━━━━━━━━━━━━━━━━━━━━━━━━━━\u001b[0m \u001b[32m1.0/1.0 MB\u001b[0m \u001b[31m22.0 MB/s\u001b[0m eta \u001b[36m0:00:00\u001b[0m00:01\u001b[0m\n",
      "\u001b[?25hRequirement already satisfied: scipy in /opt/conda/lib/python3.7/site-packages (from ax-platform) (1.7.3)\n",
      "Requirement already satisfied: scikit-learn in /opt/conda/lib/python3.7/site-packages (from ax-platform) (1.0.2)\n",
      "Requirement already satisfied: jinja2 in /opt/conda/lib/python3.7/site-packages (from ax-platform) (3.1.2)\n",
      "Requirement already satisfied: pandas in /opt/conda/lib/python3.7/site-packages (from ax-platform) (1.3.5)\n",
      "Collecting botorch==0.6.6\n",
      "  Downloading botorch-0.6.6-py3-none-any.whl (387 kB)\n",
      "\u001b[2K     \u001b[90m━━━━━━━━━━━━━━━━━━━━━━━━━━━━━━━━━━━━━━\u001b[0m \u001b[32m387.4/387.4 kB\u001b[0m \u001b[31m32.9 MB/s\u001b[0m eta \u001b[36m0:00:00\u001b[0m\n",
      "\u001b[?25hRequirement already satisfied: plotly in /opt/conda/lib/python3.7/site-packages (from ax-platform) (5.13.0)\n",
      "Requirement already satisfied: typeguard in /opt/conda/lib/python3.7/site-packages (from ax-platform) (2.13.3)\n",
      "Requirement already satisfied: torch>=1.10 in /opt/conda/lib/python3.7/site-packages (from botorch==0.6.6->ax-platform) (1.13.0)\n",
      "Collecting pyro-ppl>=1.8.0\n",
      "  Downloading pyro_ppl-1.8.4-py3-none-any.whl (730 kB)\n",
      "\u001b[2K     \u001b[90m━━━━━━━━━━━━━━━━━━━━━━━━━━━━━━━━━━━━━━\u001b[0m \u001b[32m730.7/730.7 kB\u001b[0m \u001b[31m47.2 MB/s\u001b[0m eta \u001b[36m0:00:00\u001b[0m\n",
      "\u001b[?25hCollecting gpytorch>=1.8.1\n",
      "  Downloading gpytorch-1.8.1-py2.py3-none-any.whl (361 kB)\n",
      "\u001b[2K     \u001b[90m━━━━━━━━━━━━━━━━━━━━━━━━━━━━━━━━━━━━━━\u001b[0m \u001b[32m361.8/361.8 kB\u001b[0m \u001b[31m28.2 MB/s\u001b[0m eta \u001b[36m0:00:00\u001b[0m\n",
      "\u001b[?25hRequirement already satisfied: multipledispatch in /opt/conda/lib/python3.7/site-packages (from botorch==0.6.6->ax-platform) (0.6.0)\n",
      "Requirement already satisfied: MarkupSafe>=2.0 in /opt/conda/lib/python3.7/site-packages (from jinja2->ax-platform) (2.1.1)\n",
      "Requirement already satisfied: python-dateutil>=2.7.3 in /opt/conda/lib/python3.7/site-packages (from pandas->ax-platform) (2.8.2)\n",
      "Requirement already satisfied: pytz>=2017.3 in /opt/conda/lib/python3.7/site-packages (from pandas->ax-platform) (2023.3)\n",
      "Requirement already satisfied: numpy>=1.17.3 in /opt/conda/lib/python3.7/site-packages (from pandas->ax-platform) (1.21.6)\n",
      "Requirement already satisfied: tenacity>=6.2.0 in /opt/conda/lib/python3.7/site-packages (from plotly->ax-platform) (8.1.0)\n",
      "Requirement already satisfied: joblib>=0.11 in /opt/conda/lib/python3.7/site-packages (from scikit-learn->ax-platform) (1.2.0)\n",
      "Requirement already satisfied: threadpoolctl>=2.0.0 in /opt/conda/lib/python3.7/site-packages (from scikit-learn->ax-platform) (3.1.0)\n",
      "Collecting pyro-api>=0.1.1\n",
      "  Downloading pyro_api-0.1.2-py3-none-any.whl (11 kB)\n",
      "Requirement already satisfied: opt-einsum>=2.3.2 in /opt/conda/lib/python3.7/site-packages (from pyro-ppl>=1.8.0->botorch==0.6.6->ax-platform) (3.3.0)\n",
      "Requirement already satisfied: tqdm>=4.36 in /opt/conda/lib/python3.7/site-packages (from pyro-ppl>=1.8.0->botorch==0.6.6->ax-platform) (4.64.1)\n",
      "Requirement already satisfied: six>=1.5 in /opt/conda/lib/python3.7/site-packages (from python-dateutil>=2.7.3->pandas->ax-platform) (1.16.0)\n",
      "Requirement already satisfied: typing-extensions in /opt/conda/lib/python3.7/site-packages (from torch>=1.10->botorch==0.6.6->ax-platform) (4.4.0)\n",
      "Installing collected packages: pyro-api, pyro-ppl, gpytorch, botorch, ax-platform\n",
      "Successfully installed ax-platform-0.2.6 botorch-0.6.6 gpytorch-1.8.1 pyro-api-0.1.2 pyro-ppl-1.8.4\n",
      "\u001b[33mWARNING: Running pip as the 'root' user can result in broken permissions and conflicting behaviour with the system package manager. It is recommended to use a virtual environment instead: https://pip.pypa.io/warnings/venv\u001b[0m\u001b[33m\n",
      "\u001b[0m"
     ]
    }
   ],
   "source": [
    "!pip install ax-platform"
   ]
  },
  {
   "cell_type": "code",
   "execution_count": 47,
   "metadata": {
    "colab": {
     "base_uri": "https://localhost:8080/",
     "height": 206
    },
    "execution": {
     "iopub.execute_input": "2023-04-16T06:40:00.643193Z",
     "iopub.status.busy": "2023-04-16T06:40:00.642805Z",
     "iopub.status.idle": "2023-04-16T06:40:00.769241Z",
     "shell.execute_reply": "2023-04-16T06:40:00.767970Z",
     "shell.execute_reply.started": "2023-04-16T06:40:00.643145Z"
    },
    "id": "hW9nWZQqLnCA",
    "outputId": "ca81eb20-0ee0-4c7d-a3c9-3f36385d9c3c"
   },
   "outputs": [
    {
     "data": {
      "text/html": [
       "<div>\n",
       "<style scoped>\n",
       "    .dataframe tbody tr th:only-of-type {\n",
       "        vertical-align: middle;\n",
       "    }\n",
       "\n",
       "    .dataframe tbody tr th {\n",
       "        vertical-align: top;\n",
       "    }\n",
       "\n",
       "    .dataframe thead th {\n",
       "        text-align: right;\n",
       "    }\n",
       "</style>\n",
       "<table border=\"1\" class=\"dataframe\">\n",
       "  <thead>\n",
       "    <tr style=\"text-align: right;\">\n",
       "      <th></th>\n",
       "      <th>text</th>\n",
       "      <th>input_ids</th>\n",
       "      <th>target</th>\n",
       "      <th>attention_masks</th>\n",
       "    </tr>\n",
       "  </thead>\n",
       "  <tbody>\n",
       "    <tr>\n",
       "      <th>6912</th>\n",
       "      <td>Having trouble understanding the rotations wit...</td>\n",
       "      <td>[[tensor(101), tensor(2383), tensor(4390), ten...</td>\n",
       "      <td>0.0</td>\n",
       "      <td>[tensor(1), tensor(1), tensor(1), tensor(1), t...</td>\n",
       "    </tr>\n",
       "    <tr>\n",
       "      <th>2561</th>\n",
       "      <td>Wow Crackdown 3 uses multiple servers in multi...</td>\n",
       "      <td>[[tensor(101), tensor(10166), tensor(8579), te...</td>\n",
       "      <td>0.0</td>\n",
       "      <td>[tensor(1), tensor(1), tensor(1), tensor(1), t...</td>\n",
       "    </tr>\n",
       "    <tr>\n",
       "      <th>477</th>\n",
       "      <td>Heart disease prevention: What about secondhan...</td>\n",
       "      <td>[[tensor(101), tensor(2540), tensor(4295), ten...</td>\n",
       "      <td>0.0</td>\n",
       "      <td>[tensor(1), tensor(1), tensor(1), tensor(1), t...</td>\n",
       "    </tr>\n",
       "    <tr>\n",
       "      <th>4507</th>\n",
       "      <td>Cape Coral city leaders take part in mock hurr...</td>\n",
       "      <td>[[tensor(101), tensor(4880), tensor(11034), te...</td>\n",
       "      <td>1.0</td>\n",
       "      <td>[tensor(1), tensor(1), tensor(1), tensor(1), t...</td>\n",
       "    </tr>\n",
       "    <tr>\n",
       "      <th>4072</th>\n",
       "      <td>#np Avenged Sevenfold - Hail To The King</td>\n",
       "      <td>[[tensor(101), tensor(1001), tensor(27937), te...</td>\n",
       "      <td>0.0</td>\n",
       "      <td>[tensor(1), tensor(1), tensor(1), tensor(1), t...</td>\n",
       "    </tr>\n",
       "  </tbody>\n",
       "</table>\n",
       "</div>"
      ],
      "text/plain": [
       "                                                   text  \\\n",
       "6912  Having trouble understanding the rotations wit...   \n",
       "2561  Wow Crackdown 3 uses multiple servers in multi...   \n",
       "477   Heart disease prevention: What about secondhan...   \n",
       "4507  Cape Coral city leaders take part in mock hurr...   \n",
       "4072           #np Avenged Sevenfold - Hail To The King   \n",
       "\n",
       "                                              input_ids  target  \\\n",
       "6912  [[tensor(101), tensor(2383), tensor(4390), ten...     0.0   \n",
       "2561  [[tensor(101), tensor(10166), tensor(8579), te...     0.0   \n",
       "477   [[tensor(101), tensor(2540), tensor(4295), ten...     0.0   \n",
       "4507  [[tensor(101), tensor(4880), tensor(11034), te...     1.0   \n",
       "4072  [[tensor(101), tensor(1001), tensor(27937), te...     0.0   \n",
       "\n",
       "                                        attention_masks  \n",
       "6912  [tensor(1), tensor(1), tensor(1), tensor(1), t...  \n",
       "2561  [tensor(1), tensor(1), tensor(1), tensor(1), t...  \n",
       "477   [tensor(1), tensor(1), tensor(1), tensor(1), t...  \n",
       "4507  [tensor(1), tensor(1), tensor(1), tensor(1), t...  \n",
       "4072  [tensor(1), tensor(1), tensor(1), tensor(1), t...  "
      ]
     },
     "execution_count": 47,
     "metadata": {},
     "output_type": "execute_result"
    }
   ],
   "source": [
    "d1_val.head()"
   ]
  },
  {
   "cell_type": "code",
   "execution_count": 48,
   "metadata": {
    "execution": {
     "iopub.execute_input": "2023-04-16T06:40:00.771605Z",
     "iopub.status.busy": "2023-04-16T06:40:00.771197Z",
     "iopub.status.idle": "2023-04-16T06:40:00.778190Z",
     "shell.execute_reply": "2023-04-16T06:40:00.777153Z",
     "shell.execute_reply.started": "2023-04-16T06:40:00.771566Z"
    },
    "id": "7LbX2u8rLnCA"
   },
   "outputs": [],
   "source": [
    "# update val data loader\n",
    "val_data_d1_updated = torch.utils.data.TensorDataset(d1_val_tokens, \n",
    "                                             d1_val_attention_masks,\n",
    "                                             torch.tensor(d1_val['target'].values).type(torch.LongTensor),\n",
    "                                             torch.zeros(len(d1_val['target'].values)))\n",
    "val_loader_d1_updated = torch.utils.data.DataLoader(val_data_d1_updated, batch_size=batch_size, shuffle=False)"
   ]
  },
  {
   "cell_type": "markdown",
   "metadata": {
    "id": "2ZTxJtVFLnCA"
   },
   "source": [
    "### vi. Obtain the best values of the hyper-parameters lambda1 and lambda2"
   ]
  },
  {
   "cell_type": "code",
   "execution_count": 49,
   "metadata": {
    "execution": {
     "iopub.execute_input": "2023-04-16T06:40:00.780790Z",
     "iopub.status.busy": "2023-04-16T06:40:00.780060Z",
     "iopub.status.idle": "2023-04-16T06:40:00.788187Z",
     "shell.execute_reply": "2023-04-16T06:40:00.787070Z",
     "shell.execute_reply.started": "2023-04-16T06:40:00.780752Z"
    },
    "id": "6VKvkgL2LnCA"
   },
   "outputs": [],
   "source": [
    "# define helper function to train and evaluate model\n",
    "def train_evaluate(parameterization):\n",
    "    md12_star = DisasterSentimentModel(num_labels1=2, num_labels2=3).to(device)\n",
    "    lambda1 = parameterization[\"lambda1\"]\n",
    "    lambda2 = parameterization[\"lambda2\"]\n",
    "    mtl_train(md12_star, train_loader_d12, 2, lambda1, lambda2)\n",
    "    f1_score_exp = mtl_evaluate(md12_star, val_loader_d1_updated, return_t2_perf=False, return_labels=False)\n",
    "    return f1_score_exp"
   ]
  },
  {
   "cell_type": "code",
   "execution_count": 50,
   "metadata": {
    "colab": {
     "base_uri": "https://localhost:8080/"
    },
    "execution": {
     "iopub.execute_input": "2023-04-16T06:40:00.791732Z",
     "iopub.status.busy": "2023-04-16T06:40:00.791448Z",
     "iopub.status.idle": "2023-04-16T07:31:59.389033Z",
     "shell.execute_reply": "2023-04-16T07:31:59.387828Z",
     "shell.execute_reply.started": "2023-04-16T06:40:00.791706Z"
    },
    "id": "lTSn8-7ULnCA",
    "outputId": "19075f05-d477-4b1f-85d6-0a1fc42d6218"
   },
   "outputs": [
    {
     "name": "stderr",
     "output_type": "stream",
     "text": [
      "[INFO 04-16 06:40:01] ax.service.utils.instantiation: Created search space: SearchSpace(parameters=[RangeParameter(name='lambda1', parameter_type=FLOAT, range=[0.0, 1.0]), RangeParameter(name='lambda2', parameter_type=FLOAT, range=[0.0, 1.0])], parameter_constraints=[]).\n",
      "[INFO 04-16 06:40:01] ax.modelbridge.dispatch_utils: Using Bayesian optimization since there are more ordered parameters than there are categories for the unordered categorical parameters.\n",
      "[INFO 04-16 06:40:01] ax.modelbridge.dispatch_utils: Using Bayesian Optimization generation strategy: GenerationStrategy(name='Sobol+GPEI', steps=[Sobol for 5 trials, GPEI for subsequent trials]). Iterations after 5 will take longer to generate due to  model-fitting.\n",
      "[INFO 04-16 06:40:01] ax.service.managed_loop: Started full optimization with 7 steps.\n",
      "[INFO 04-16 06:40:01] ax.service.managed_loop: Running optimization trial 1...\n",
      "Some weights of the model checkpoint at bert-base-uncased were not used when initializing BertModel: ['cls.predictions.bias', 'cls.predictions.transform.LayerNorm.weight', 'cls.seq_relationship.bias', 'cls.seq_relationship.weight', 'cls.predictions.transform.dense.bias', 'cls.predictions.transform.LayerNorm.bias', 'cls.predictions.transform.dense.weight', 'cls.predictions.decoder.weight']\n",
      "- This IS expected if you are initializing BertModel from the checkpoint of a model trained on another task or with another architecture (e.g. initializing a BertForSequenceClassification model from a BertForPreTraining model).\n",
      "- This IS NOT expected if you are initializing BertModel from the checkpoint of a model that you expect to be exactly identical (initializing a BertForSequenceClassification model from a BertForSequenceClassification model).\n",
      "100%|██████████| 439/439 [03:36<00:00,  2.03it/s]\n",
      "100%|██████████| 439/439 [03:36<00:00,  2.03it/s]\n",
      "100%|██████████| 48/48 [00:11<00:00,  4.22it/s]\n",
      "[INFO 04-16 06:47:27] ax.service.managed_loop: Running optimization trial 2...\n"
     ]
    },
    {
     "name": "stdout",
     "output_type": "stream",
     "text": [
      "Perf T1 - F1 score: 0.778588807785888\n"
     ]
    },
    {
     "name": "stderr",
     "output_type": "stream",
     "text": [
      "Some weights of the model checkpoint at bert-base-uncased were not used when initializing BertModel: ['cls.predictions.bias', 'cls.predictions.transform.LayerNorm.weight', 'cls.seq_relationship.bias', 'cls.seq_relationship.weight', 'cls.predictions.transform.dense.bias', 'cls.predictions.transform.LayerNorm.bias', 'cls.predictions.transform.dense.weight', 'cls.predictions.decoder.weight']\n",
      "- This IS expected if you are initializing BertModel from the checkpoint of a model trained on another task or with another architecture (e.g. initializing a BertForSequenceClassification model from a BertForPreTraining model).\n",
      "- This IS NOT expected if you are initializing BertModel from the checkpoint of a model that you expect to be exactly identical (initializing a BertForSequenceClassification model from a BertForSequenceClassification model).\n",
      "100%|██████████| 439/439 [03:36<00:00,  2.03it/s]\n",
      "100%|██████████| 439/439 [03:35<00:00,  2.03it/s]\n",
      "100%|██████████| 48/48 [00:11<00:00,  4.22it/s]\n",
      "[INFO 04-16 06:54:52] ax.service.managed_loop: Running optimization trial 3...\n"
     ]
    },
    {
     "name": "stdout",
     "output_type": "stream",
     "text": [
      "Perf T1 - F1 score: 0.7756360832690825\n"
     ]
    },
    {
     "name": "stderr",
     "output_type": "stream",
     "text": [
      "Some weights of the model checkpoint at bert-base-uncased were not used when initializing BertModel: ['cls.predictions.bias', 'cls.predictions.transform.LayerNorm.weight', 'cls.seq_relationship.bias', 'cls.seq_relationship.weight', 'cls.predictions.transform.dense.bias', 'cls.predictions.transform.LayerNorm.bias', 'cls.predictions.transform.dense.weight', 'cls.predictions.decoder.weight']\n",
      "- This IS expected if you are initializing BertModel from the checkpoint of a model trained on another task or with another architecture (e.g. initializing a BertForSequenceClassification model from a BertForPreTraining model).\n",
      "- This IS NOT expected if you are initializing BertModel from the checkpoint of a model that you expect to be exactly identical (initializing a BertForSequenceClassification model from a BertForSequenceClassification model).\n",
      "100%|██████████| 439/439 [03:36<00:00,  2.03it/s]\n",
      "100%|██████████| 439/439 [03:36<00:00,  2.03it/s]\n",
      "100%|██████████| 48/48 [00:11<00:00,  4.22it/s]\n",
      "[INFO 04-16 07:02:17] ax.service.managed_loop: Running optimization trial 4...\n"
     ]
    },
    {
     "name": "stdout",
     "output_type": "stream",
     "text": [
      "Perf T1 - F1 score: 0.7729970326409495\n"
     ]
    },
    {
     "name": "stderr",
     "output_type": "stream",
     "text": [
      "Some weights of the model checkpoint at bert-base-uncased were not used when initializing BertModel: ['cls.predictions.bias', 'cls.predictions.transform.LayerNorm.weight', 'cls.seq_relationship.bias', 'cls.seq_relationship.weight', 'cls.predictions.transform.dense.bias', 'cls.predictions.transform.LayerNorm.bias', 'cls.predictions.transform.dense.weight', 'cls.predictions.decoder.weight']\n",
      "- This IS expected if you are initializing BertModel from the checkpoint of a model trained on another task or with another architecture (e.g. initializing a BertForSequenceClassification model from a BertForPreTraining model).\n",
      "- This IS NOT expected if you are initializing BertModel from the checkpoint of a model that you expect to be exactly identical (initializing a BertForSequenceClassification model from a BertForSequenceClassification model).\n",
      "100%|██████████| 439/439 [03:36<00:00,  2.03it/s]\n",
      "100%|██████████| 439/439 [03:36<00:00,  2.03it/s]\n",
      "100%|██████████| 48/48 [00:11<00:00,  4.23it/s]\n",
      "[INFO 04-16 07:09:42] ax.service.managed_loop: Running optimization trial 5...\n"
     ]
    },
    {
     "name": "stdout",
     "output_type": "stream",
     "text": [
      "Perf T1 - F1 score: 0.7706270627062707\n"
     ]
    },
    {
     "name": "stderr",
     "output_type": "stream",
     "text": [
      "Some weights of the model checkpoint at bert-base-uncased were not used when initializing BertModel: ['cls.predictions.bias', 'cls.predictions.transform.LayerNorm.weight', 'cls.seq_relationship.bias', 'cls.seq_relationship.weight', 'cls.predictions.transform.dense.bias', 'cls.predictions.transform.LayerNorm.bias', 'cls.predictions.transform.dense.weight', 'cls.predictions.decoder.weight']\n",
      "- This IS expected if you are initializing BertModel from the checkpoint of a model trained on another task or with another architecture (e.g. initializing a BertForSequenceClassification model from a BertForPreTraining model).\n",
      "- This IS NOT expected if you are initializing BertModel from the checkpoint of a model that you expect to be exactly identical (initializing a BertForSequenceClassification model from a BertForSequenceClassification model).\n",
      "100%|██████████| 439/439 [03:36<00:00,  2.03it/s]\n",
      "100%|██████████| 439/439 [03:36<00:00,  2.03it/s]\n",
      "100%|██████████| 48/48 [00:11<00:00,  4.22it/s]\n",
      "[INFO 04-16 07:17:07] ax.service.managed_loop: Running optimization trial 6...\n"
     ]
    },
    {
     "name": "stdout",
     "output_type": "stream",
     "text": [
      "Perf T1 - F1 score: 0.7694915254237289\n"
     ]
    },
    {
     "name": "stderr",
     "output_type": "stream",
     "text": [
      "/opt/conda/lib/python3.7/site-packages/gpytorch/lazy/lazy_tensor.py:1811: UserWarning: torch.triangular_solve is deprecated in favor of torch.linalg.solve_triangularand will be removed in a future PyTorch release.\n",
      "torch.linalg.solve_triangular has its arguments reversed and does not return a copy of one of the inputs.\n",
      "X = torch.triangular_solve(B, A).solution\n",
      "should be replaced with\n",
      "X = torch.linalg.solve_triangular(A, B). (Triggered internally at /usr/local/src/pytorch/aten/src/ATen/native/BatchLinearAlgebra.cpp:2115.)\n",
      "  Linv = torch.triangular_solve(Eye, L, upper=False).solution\n",
      "Some weights of the model checkpoint at bert-base-uncased were not used when initializing BertModel: ['cls.predictions.bias', 'cls.predictions.transform.LayerNorm.weight', 'cls.seq_relationship.bias', 'cls.seq_relationship.weight', 'cls.predictions.transform.dense.bias', 'cls.predictions.transform.LayerNorm.bias', 'cls.predictions.transform.dense.weight', 'cls.predictions.decoder.weight']\n",
      "- This IS expected if you are initializing BertModel from the checkpoint of a model trained on another task or with another architecture (e.g. initializing a BertForSequenceClassification model from a BertForPreTraining model).\n",
      "- This IS NOT expected if you are initializing BertModel from the checkpoint of a model that you expect to be exactly identical (initializing a BertForSequenceClassification model from a BertForSequenceClassification model).\n",
      "100%|██████████| 439/439 [03:36<00:00,  2.03it/s]\n",
      "100%|██████████| 439/439 [03:36<00:00,  2.03it/s]\n",
      "100%|██████████| 48/48 [00:11<00:00,  4.22it/s]\n",
      "[INFO 04-16 07:24:33] ax.service.managed_loop: Running optimization trial 7...\n"
     ]
    },
    {
     "name": "stdout",
     "output_type": "stream",
     "text": [
      "Perf T1 - F1 score: 0.7839999999999999\n"
     ]
    },
    {
     "name": "stderr",
     "output_type": "stream",
     "text": [
      "Some weights of the model checkpoint at bert-base-uncased were not used when initializing BertModel: ['cls.predictions.bias', 'cls.predictions.transform.LayerNorm.weight', 'cls.seq_relationship.bias', 'cls.seq_relationship.weight', 'cls.predictions.transform.dense.bias', 'cls.predictions.transform.LayerNorm.bias', 'cls.predictions.transform.dense.weight', 'cls.predictions.decoder.weight']\n",
      "- This IS expected if you are initializing BertModel from the checkpoint of a model trained on another task or with another architecture (e.g. initializing a BertForSequenceClassification model from a BertForPreTraining model).\n",
      "- This IS NOT expected if you are initializing BertModel from the checkpoint of a model that you expect to be exactly identical (initializing a BertForSequenceClassification model from a BertForSequenceClassification model).\n",
      "100%|██████████| 439/439 [03:36<00:00,  2.03it/s]\n",
      "100%|██████████| 439/439 [03:36<00:00,  2.03it/s]\n",
      "100%|██████████| 48/48 [00:11<00:00,  4.23it/s]\n",
      "[WARNING 04-16 07:31:59] ax.modelbridge.cross_validation: Metric f1_score was unable to be reliably fit.\n",
      "[WARNING 04-16 07:31:59] ax.service.utils.best_point: Model fit is poor; falling back on raw data for best point.\n",
      "[WARNING 04-16 07:31:59] ax.service.utils.best_point: Model fit is poor and data on objective metric f1_score is noisy; interpret best points results carefully.\n"
     ]
    },
    {
     "name": "stdout",
     "output_type": "stream",
     "text": [
      "Perf T1 - F1 score: 0.7671691792294807\n"
     ]
    }
   ],
   "source": [
    "from ax import optimize\n",
    "\n",
    "# optimizer is set to maximize f1 score\n",
    "best_parameters, values, experiment, model = optimize(\n",
    "    parameters=[\n",
    "        {\"name\": \"lambda1\", \"type\": 'range', \"value_type\": 'float', \"bounds\": [0.0, 1.0]},\n",
    "        {\"name\": \"lambda2\", \"type\": 'range', \"value_type\": 'float', \"bounds\": [0.0, 1.0]},\n",
    "    ],\n",
    "    evaluation_function=train_evaluate,\n",
    "    minimize = False,\n",
    "    objective_name='f1_score',\n",
    "    total_trials=7\n",
    ")"
   ]
  },
  {
   "cell_type": "code",
   "execution_count": 51,
   "metadata": {
    "colab": {
     "base_uri": "https://localhost:8080/"
    },
    "execution": {
     "iopub.execute_input": "2023-04-16T07:31:59.391177Z",
     "iopub.status.busy": "2023-04-16T07:31:59.390718Z",
     "iopub.status.idle": "2023-04-16T07:31:59.397713Z",
     "shell.execute_reply": "2023-04-16T07:31:59.396643Z",
     "shell.execute_reply.started": "2023-04-16T07:31:59.391132Z"
    },
    "id": "6Qpm7WEWLnCA",
    "outputId": "f2099b51-a307-4345-e141-2cbb4cfd7c35"
   },
   "outputs": [
    {
     "name": "stdout",
     "output_type": "stream",
     "text": [
      "{'lambda1': 0.6342942588575995, 'lambda2': 0.9743182933953305}\n"
     ]
    }
   ],
   "source": [
    "print(best_parameters)"
   ]
  },
  {
   "cell_type": "markdown",
   "metadata": {
    "id": "ZRdKyY88LnCB"
   },
   "source": [
    "After running the optimization algorithm above, we get the following values for lambda\n",
    "\n",
    "$\\lambda$1 = 0.6342942588575995\n",
    "\n",
    "$\\lambda$2 = 0.9743182933953305"
   ]
  },
  {
   "cell_type": "markdown",
   "metadata": {
    "id": "WckjM72bLnCB"
   },
   "source": [
    "### vii. Training model with the best lambdas"
   ]
  },
  {
   "cell_type": "code",
   "execution_count": 52,
   "metadata": {
    "colab": {
     "base_uri": "https://localhost:8080/"
    },
    "execution": {
     "iopub.execute_input": "2023-04-16T07:31:59.400306Z",
     "iopub.status.busy": "2023-04-16T07:31:59.399202Z",
     "iopub.status.idle": "2023-04-16T08:00:50.287475Z",
     "shell.execute_reply": "2023-04-16T08:00:50.286415Z",
     "shell.execute_reply.started": "2023-04-16T07:31:59.400268Z"
    },
    "id": "sIHQ9K3iLnCB",
    "outputId": "282cae8b-9413-48c0-a343-3e03ae3de507"
   },
   "outputs": [
    {
     "name": "stderr",
     "output_type": "stream",
     "text": [
      "Some weights of the model checkpoint at bert-base-uncased were not used when initializing BertModel: ['cls.predictions.bias', 'cls.predictions.transform.LayerNorm.weight', 'cls.seq_relationship.bias', 'cls.seq_relationship.weight', 'cls.predictions.transform.dense.bias', 'cls.predictions.transform.LayerNorm.bias', 'cls.predictions.transform.dense.weight', 'cls.predictions.decoder.weight']\n",
      "- This IS expected if you are initializing BertModel from the checkpoint of a model trained on another task or with another architecture (e.g. initializing a BertForSequenceClassification model from a BertForPreTraining model).\n",
      "- This IS NOT expected if you are initializing BertModel from the checkpoint of a model that you expect to be exactly identical (initializing a BertForSequenceClassification model from a BertForSequenceClassification model).\n",
      "100%|██████████| 439/439 [03:36<00:00,  2.03it/s]\n"
     ]
    },
    {
     "name": "stdout",
     "output_type": "stream",
     "text": [
      "loss at epoch 1 = 1.2660665298920286\n"
     ]
    },
    {
     "name": "stderr",
     "output_type": "stream",
     "text": [
      "100%|██████████| 439/439 [03:35<00:00,  2.03it/s]\n"
     ]
    },
    {
     "name": "stdout",
     "output_type": "stream",
     "text": [
      "loss at epoch 2 = 1.211152371078526\n"
     ]
    },
    {
     "name": "stderr",
     "output_type": "stream",
     "text": [
      "100%|██████████| 439/439 [03:35<00:00,  2.03it/s]\n"
     ]
    },
    {
     "name": "stdout",
     "output_type": "stream",
     "text": [
      "loss at epoch 3 = 1.2029695060095646\n"
     ]
    },
    {
     "name": "stderr",
     "output_type": "stream",
     "text": [
      "100%|██████████| 439/439 [03:36<00:00,  2.03it/s]\n"
     ]
    },
    {
     "name": "stdout",
     "output_type": "stream",
     "text": [
      "loss at epoch 4 = 1.2004974724763076\n"
     ]
    },
    {
     "name": "stderr",
     "output_type": "stream",
     "text": [
      "100%|██████████| 439/439 [03:36<00:00,  2.03it/s]\n"
     ]
    },
    {
     "name": "stdout",
     "output_type": "stream",
     "text": [
      "loss at epoch 5 = 1.1918705663811373\n"
     ]
    },
    {
     "name": "stderr",
     "output_type": "stream",
     "text": [
      "100%|██████████| 439/439 [03:36<00:00,  2.03it/s]\n"
     ]
    },
    {
     "name": "stdout",
     "output_type": "stream",
     "text": [
      "loss at epoch 6 = 1.1871081619164938\n"
     ]
    },
    {
     "name": "stderr",
     "output_type": "stream",
     "text": [
      "100%|██████████| 439/439 [03:36<00:00,  2.03it/s]\n"
     ]
    },
    {
     "name": "stdout",
     "output_type": "stream",
     "text": [
      "loss at epoch 7 = 1.1860810254863834\n"
     ]
    },
    {
     "name": "stderr",
     "output_type": "stream",
     "text": [
      "100%|██████████| 439/439 [03:36<00:00,  2.03it/s]"
     ]
    },
    {
     "name": "stdout",
     "output_type": "stream",
     "text": [
      "loss at epoch 8 = 1.1812104451086092\n"
     ]
    },
    {
     "name": "stderr",
     "output_type": "stream",
     "text": [
      "\n"
     ]
    }
   ],
   "source": [
    "md12_star = DisasterSentimentModel(num_labels1=2, num_labels2=3).to(device)\n",
    "lambda1 = best_parameters['lambda1']\n",
    "lambda2 = best_parameters['lambda2']\n",
    "mtl_train(md12_star, train_loader_d12, 8, lambda1, lambda2, True)"
   ]
  },
  {
   "cell_type": "code",
   "execution_count": 53,
   "metadata": {
    "execution": {
     "iopub.execute_input": "2023-04-16T08:00:50.290203Z",
     "iopub.status.busy": "2023-04-16T08:00:50.289117Z",
     "iopub.status.idle": "2023-04-16T08:00:50.328046Z",
     "shell.execute_reply": "2023-04-16T08:00:50.326961Z",
     "shell.execute_reply.started": "2023-04-16T08:00:50.290164Z"
    },
    "id": "sWW1WV_ZLnCB"
   },
   "outputs": [],
   "source": [
    "# create a data loader for d1 test data\n",
    "test_tokens = torch.from_numpy(np.vstack(d1_test_preprocessed['input_ids']))\n",
    "test_attention_masks = torch.where(test_tokens!=0, 1, 0)\n",
    "\n",
    "# test data loader\n",
    "batch_size = 16\n",
    "test_data_d1 = torch.utils.data.TensorDataset(test_tokens,\n",
    "                                              test_attention_masks)\n",
    "\n",
    "test_loader_d1 = torch.utils.data.DataLoader(test_data_d1, batch_size=batch_size, shuffle=False)"
   ]
  },
  {
   "cell_type": "code",
   "execution_count": 54,
   "metadata": {
    "colab": {
     "base_uri": "https://localhost:8080/"
    },
    "execution": {
     "iopub.execute_input": "2023-04-16T08:00:50.329951Z",
     "iopub.status.busy": "2023-04-16T08:00:50.329507Z",
     "iopub.status.idle": "2023-04-16T08:01:15.887402Z",
     "shell.execute_reply": "2023-04-16T08:01:15.886203Z",
     "shell.execute_reply.started": "2023-04-16T08:00:50.329913Z"
    },
    "id": "WGUrl8TjLnCB",
    "outputId": "0897fbad-fffa-46ad-c682-990b0eecbc94"
   },
   "outputs": [
    {
     "name": "stderr",
     "output_type": "stream",
     "text": [
      "100%|██████████| 204/204 [00:25<00:00,  7.99it/s]\n"
     ]
    }
   ],
   "source": [
    "# get prediction on d1 test set\n",
    "md12_star.eval()\n",
    "preds = []\n",
    "labels = []\n",
    "for batch in tqdm(test_loader_d1):\n",
    "    batch = tuple(t.to(device) for t in batch)\n",
    "    with torch.no_grad():\n",
    "        inputs = {'input_ids': batch[0], 'attention_mask': batch[1]}\n",
    "        output1, output2 = md12_star(**inputs)\n",
    "        batch_preds = torch.argmax(output1, axis=1).detach().cpu().numpy().tolist()\n",
    "        preds += batch_preds\n",
    "        \n",
    "d1_test['target'] = preds"
   ]
  },
  {
   "cell_type": "code",
   "execution_count": 55,
   "metadata": {
    "colab": {
     "base_uri": "https://localhost:8080/",
     "height": 206
    },
    "execution": {
     "iopub.execute_input": "2023-04-16T08:01:15.889548Z",
     "iopub.status.busy": "2023-04-16T08:01:15.889129Z",
     "iopub.status.idle": "2023-04-16T08:01:15.902589Z",
     "shell.execute_reply": "2023-04-16T08:01:15.901344Z",
     "shell.execute_reply.started": "2023-04-16T08:01:15.889505Z"
    },
    "id": "GVSexVclLnCB",
    "outputId": "c9f7ca51-ba70-4984-e9c2-7f0df10d15c5"
   },
   "outputs": [
    {
     "data": {
      "text/html": [
       "<div>\n",
       "<style scoped>\n",
       "    .dataframe tbody tr th:only-of-type {\n",
       "        vertical-align: middle;\n",
       "    }\n",
       "\n",
       "    .dataframe tbody tr th {\n",
       "        vertical-align: top;\n",
       "    }\n",
       "\n",
       "    .dataframe thead th {\n",
       "        text-align: right;\n",
       "    }\n",
       "</style>\n",
       "<table border=\"1\" class=\"dataframe\">\n",
       "  <thead>\n",
       "    <tr style=\"text-align: right;\">\n",
       "      <th></th>\n",
       "      <th>id</th>\n",
       "      <th>keyword</th>\n",
       "      <th>location</th>\n",
       "      <th>text</th>\n",
       "      <th>flag</th>\n",
       "      <th>target</th>\n",
       "    </tr>\n",
       "  </thead>\n",
       "  <tbody>\n",
       "    <tr>\n",
       "      <th>0</th>\n",
       "      <td>0</td>\n",
       "      <td>NaN</td>\n",
       "      <td>NaN</td>\n",
       "      <td>Just happened a terrible car crash</td>\n",
       "      <td>d1_test</td>\n",
       "      <td>1</td>\n",
       "    </tr>\n",
       "    <tr>\n",
       "      <th>1</th>\n",
       "      <td>2</td>\n",
       "      <td>NaN</td>\n",
       "      <td>NaN</td>\n",
       "      <td>Heard about #earthquake is different cities, s...</td>\n",
       "      <td>d1_test</td>\n",
       "      <td>1</td>\n",
       "    </tr>\n",
       "    <tr>\n",
       "      <th>2</th>\n",
       "      <td>3</td>\n",
       "      <td>NaN</td>\n",
       "      <td>NaN</td>\n",
       "      <td>there is a forest fire at spot pond, geese are...</td>\n",
       "      <td>d1_test</td>\n",
       "      <td>1</td>\n",
       "    </tr>\n",
       "    <tr>\n",
       "      <th>3</th>\n",
       "      <td>9</td>\n",
       "      <td>NaN</td>\n",
       "      <td>NaN</td>\n",
       "      <td>Apocalypse lighting. #Spokane #wildfires</td>\n",
       "      <td>d1_test</td>\n",
       "      <td>1</td>\n",
       "    </tr>\n",
       "    <tr>\n",
       "      <th>4</th>\n",
       "      <td>11</td>\n",
       "      <td>NaN</td>\n",
       "      <td>NaN</td>\n",
       "      <td>Typhoon Soudelor kills 28 in China and Taiwan</td>\n",
       "      <td>d1_test</td>\n",
       "      <td>1</td>\n",
       "    </tr>\n",
       "  </tbody>\n",
       "</table>\n",
       "</div>"
      ],
      "text/plain": [
       "   id keyword location                                               text  \\\n",
       "0   0     NaN      NaN                 Just happened a terrible car crash   \n",
       "1   2     NaN      NaN  Heard about #earthquake is different cities, s...   \n",
       "2   3     NaN      NaN  there is a forest fire at spot pond, geese are...   \n",
       "3   9     NaN      NaN           Apocalypse lighting. #Spokane #wildfires   \n",
       "4  11     NaN      NaN      Typhoon Soudelor kills 28 in China and Taiwan   \n",
       "\n",
       "      flag  target  \n",
       "0  d1_test       1  \n",
       "1  d1_test       1  \n",
       "2  d1_test       1  \n",
       "3  d1_test       1  \n",
       "4  d1_test       1  "
      ]
     },
     "execution_count": 55,
     "metadata": {},
     "output_type": "execute_result"
    }
   ],
   "source": [
    "d1_test.head()"
   ]
  },
  {
   "cell_type": "code",
   "execution_count": 56,
   "metadata": {
    "execution": {
     "iopub.execute_input": "2023-04-16T08:01:15.905224Z",
     "iopub.status.busy": "2023-04-16T08:01:15.904456Z",
     "iopub.status.idle": "2023-04-16T08:01:15.912024Z",
     "shell.execute_reply": "2023-04-16T08:01:15.911036Z",
     "shell.execute_reply.started": "2023-04-16T08:01:15.905184Z"
    },
    "id": "nPMDaFPCLnCB"
   },
   "outputs": [],
   "source": [
    "# d1_test[['id', 'target']].to_csv(\"./team_whs_submission2_6.csv\", index=False)"
   ]
  },
  {
   "cell_type": "markdown",
   "metadata": {
    "id": "tBO5TUQSLnCB"
   },
   "source": [
    "**This submission achieved an F1 score of 0.80 on the leaderboard.**"
   ]
  },
  {
   "cell_type": "code",
   "execution_count": 57,
   "metadata": {
    "execution": {
     "iopub.execute_input": "2023-04-16T08:01:15.914530Z",
     "iopub.status.busy": "2023-04-16T08:01:15.913939Z",
     "iopub.status.idle": "2023-04-16T08:01:15.920846Z",
     "shell.execute_reply": "2023-04-16T08:01:15.919780Z",
     "shell.execute_reply.started": "2023-04-16T08:01:15.914490Z"
    },
    "id": "2NRHSb7VLnCB"
   },
   "outputs": [],
   "source": [
    "# saving all models\n",
    "# torch.save(md1, \"/content/MyDrive/MyDrive/bt5151_group_project/md1.bin\")\n",
    "# torch.save(md2, \"/content/MyDrive/MyDrive/bt5151_group_project/md2.bin\")\n",
    "# torch.save(md12, \"/content/MyDrive/MyDrive/bt5151_group_project/md12.bin\")\n",
    "# torch.save(md12_star, \"/content/MyDrive/MyDrive/bt5151_group_project/md12_star.bin\")"
   ]
  },
  {
   "cell_type": "markdown",
   "metadata": {
    "id": "uxCYtIwBLnCB"
   },
   "source": [
    "### viii. Hyper-parameter lambda2"
   ]
  },
  {
   "cell_type": "markdown",
   "metadata": {
    "id": "BBgSxUfuLnCB"
   },
   "source": [
    "**The best value for hyperparameter lambda2 is 0.97 which is greater than 0.**\n",
    "\n",
    "**Lambda2 conveys the importance of the loss to be considered by the model. Let's suppose lambda2=0.6, the model needs to consider 60% or 0.6 times the loss to reduce the lost as best possible and improve the model performance.\n",
    "In our case, lambda2 is 0.97 it means that we need to consider 0.97 times the loss from the sentiment task to improve the model in this task to predict whether a given text is indicative of a disaster or not. So we use the losses from both the models and multiply them with their specific coefficients to get the best possible f1 score.**\n",
    "\n",
    "**This indicates the weight placed by the model on the loss from the sentiment task to improve the overall f1 score of the model after training on texts. Since this weight (lambda2) is more than lambda1, it means that the model penalizes the model less based on the loss obtained from the disaster task and more on the sentiment task. This makes sense because the primary task is disaster classification, as a result this should allow the model to reduce the sentiment loss further and improve the model based on the disaster classification score.**\n",
    "\n",
    "**The externally sourced sentiment data improves the model accuracy because it pushes the model to use texts and labels from both disaster and sentiment datasets to classify the given text as best possible and using the lambda values allows the model to weight the individual losses and reduce the overall loss.**"
   ]
  },
  {
   "cell_type": "markdown",
   "metadata": {
    "id": "snng5J3GLnCB"
   },
   "source": [
    "### ix. Augmented Dataset used only for testing and not for training"
   ]
  },
  {
   "cell_type": "markdown",
   "metadata": {
    "id": "dyQf0z2HLnCB"
   },
   "source": [
    "**The augmented dataset is used only for testing and not for training the multi-task model because the predicted sentiment comes from another model trained on this dataset and the predictions also carry the error and the loss from that model. So if we train this model based on the output from the predicted sentiment, we would indirectly introduce the bias and loss from that model into the model that we intend to train and only increase the inaccurate predictions.**"
   ]
  },
  {
   "cell_type": "markdown",
   "metadata": {
    "id": "S-92AkOXLnCB"
   },
   "source": [
    "# 5. Further Exploration"
   ]
  },
  {
   "cell_type": "markdown",
   "metadata": {
    "id": "rUILoLkQLnCB"
   },
   "source": [
    "## Strategy 1"
   ]
  },
  {
   "cell_type": "markdown",
   "metadata": {
    "id": "kZI3h8BALnCB"
   },
   "source": [
    "**In this strategy I use the model trained on both d1 and d2 (with optimal lambdas) and pass the embeddings from this model as features into a SVM model. I would also use the predicted sentiment on the text dataset as an additional feature, these combined features would allow the model to learn all the necessary characteristics of the data. The model would be evaluated based on its performance on d1 test data.**\n",
    "\n",
    "**This strategy is expected to work because SVM can leverage kernel functions to better classify the data by understanding the features at a dimensional level. This might help the model generalize better.**"
   ]
  },
  {
   "cell_type": "code",
   "execution_count": 58,
   "metadata": {
    "colab": {
     "base_uri": "https://localhost:8080/"
    },
    "execution": {
     "iopub.execute_input": "2023-04-16T08:01:15.922746Z",
     "iopub.status.busy": "2023-04-16T08:01:15.922255Z",
     "iopub.status.idle": "2023-04-16T08:01:17.521155Z",
     "shell.execute_reply": "2023-04-16T08:01:17.520106Z",
     "shell.execute_reply.started": "2023-04-16T08:01:15.922707Z"
    },
    "id": "JaZZriiOPtzC",
    "outputId": "e1dc6b5b-116f-4b7b-b857-b3e3dadd074d"
   },
   "outputs": [
    {
     "name": "stderr",
     "output_type": "stream",
     "text": [
      "Some weights of the model checkpoint at bert-base-uncased were not used when initializing BertModel: ['cls.predictions.bias', 'cls.predictions.transform.LayerNorm.weight', 'cls.seq_relationship.bias', 'cls.seq_relationship.weight', 'cls.predictions.transform.dense.bias', 'cls.predictions.transform.LayerNorm.bias', 'cls.predictions.transform.dense.weight', 'cls.predictions.decoder.weight']\n",
      "- This IS expected if you are initializing BertModel from the checkpoint of a model trained on another task or with another architecture (e.g. initializing a BertForSequenceClassification model from a BertForPreTraining model).\n",
      "- This IS NOT expected if you are initializing BertModel from the checkpoint of a model that you expect to be exactly identical (initializing a BertForSequenceClassification model from a BertForSequenceClassification model).\n"
     ]
    }
   ],
   "source": [
    "pretrained_bert = BertModel.from_pretrained('bert-base-uncased')\n",
    "for param in pretrained_bert.parameters():\n",
    "    param.requires_grad = False\n",
    "pretrained_bert = pretrained_bert.to(device)"
   ]
  },
  {
   "cell_type": "code",
   "execution_count": 59,
   "metadata": {
    "execution": {
     "iopub.execute_input": "2023-04-16T08:01:17.522788Z",
     "iopub.status.busy": "2023-04-16T08:01:17.522445Z",
     "iopub.status.idle": "2023-04-16T08:01:17.530723Z",
     "shell.execute_reply": "2023-04-16T08:01:17.529590Z",
     "shell.execute_reply.started": "2023-04-16T08:01:17.522752Z"
    },
    "id": "x7IwncE9RhQt"
   },
   "outputs": [],
   "source": [
    "# Create data loader for training data and val data for D1\n",
    "batch_size = 1\n",
    "train_data_d1_strat1 = torch.utils.data.TensorDataset(d1_train_tokens,\n",
    "                                               d1_train_attention_masks)\n",
    "train_loader_d1_strat1 = torch.utils.data.DataLoader(train_data_d1_strat1, batch_size=batch_size, shuffle=False)\n",
    "\n",
    "val_data_d1_strat1 = torch.utils.data.TensorDataset(d1_val_tokens, \n",
    "                                             d1_val_attention_masks)\n",
    "val_loader_d1_strat1 = torch.utils.data.DataLoader(val_data_d1_strat1, batch_size=batch_size, shuffle=False)\n",
    "\n",
    "# test data loader\n",
    "test_data_d1_strat1 = torch.utils.data.TensorDataset(test_tokens,\n",
    "                                              test_attention_masks)\n",
    "test_loader_d1_strat1 = torch.utils.data.DataLoader(test_data_d1_strat1, batch_size=batch_size, shuffle=False)"
   ]
  },
  {
   "cell_type": "code",
   "execution_count": 60,
   "metadata": {
    "execution": {
     "iopub.execute_input": "2023-04-16T08:01:17.533350Z",
     "iopub.status.busy": "2023-04-16T08:01:17.532312Z",
     "iopub.status.idle": "2023-04-16T08:01:17.545914Z",
     "shell.execute_reply": "2023-04-16T08:01:17.544655Z",
     "shell.execute_reply.started": "2023-04-16T08:01:17.533307Z"
    },
    "id": "yZzEodUWdtzT"
   },
   "outputs": [],
   "source": [
    "def strat1_dataloader(dataloader, df):\n",
    "    df_copy = df.copy()\n",
    "    md12_star.eval()\n",
    "    preds = []\n",
    "    labels = []\n",
    "    for batch in tqdm(dataloader):\n",
    "        batch = tuple(t.to(device) for t in batch)\n",
    "        with torch.no_grad():\n",
    "            inputs = {'input_ids': batch[0], 'attention_mask': batch[1]}\n",
    "            output1, output2 = md12_star(**inputs)\n",
    "            batch_preds = torch.argmax(output2, axis=1).detach().cpu().numpy().tolist()\n",
    "            preds += batch_preds\n",
    "    df_copy['predicted_sentiment_label'] = preds\n",
    "\n",
    "    return_feature_list = []\n",
    "    with torch.no_grad():\n",
    "        for batch in tqdm(dataloader):\n",
    "            batch = tuple(t.to(device) for t in batch)\n",
    "            last_hidden_states = pretrained_bert(input_ids=batch[0], attention_mask=batch[1])\n",
    "            features = last_hidden_states[0][:,0,:].cpu().numpy()\n",
    "            return_feature_list.append(features)\n",
    "\n",
    "    return_features_strat1 = np.vstack(return_feature_list)\n",
    "\n",
    "    return np.concatenate([return_features_strat1, df_copy['predicted_sentiment_label'].values.reshape(-1, 1)], axis=1)\n",
    "\n"
   ]
  },
  {
   "cell_type": "code",
   "execution_count": 61,
   "metadata": {
    "colab": {
     "base_uri": "https://localhost:8080/"
    },
    "execution": {
     "iopub.execute_input": "2023-04-16T08:01:17.550018Z",
     "iopub.status.busy": "2023-04-16T08:01:17.549125Z",
     "iopub.status.idle": "2023-04-16T08:05:23.432136Z",
     "shell.execute_reply": "2023-04-16T08:05:23.430882Z",
     "shell.execute_reply.started": "2023-04-16T08:01:17.549977Z"
    },
    "id": "bv9pIoICgUlp",
    "outputId": "8d35a73f-ff2d-4029-8ce1-d8cd7babfb93"
   },
   "outputs": [
    {
     "name": "stderr",
     "output_type": "stream",
     "text": [
      "100%|██████████| 6090/6090 [01:09<00:00, 88.22it/s]\n",
      "100%|██████████| 6090/6090 [01:08<00:00, 88.86it/s]\n",
      "100%|██████████| 1523/1523 [00:17<00:00, 88.34it/s]\n",
      "100%|██████████| 1523/1523 [00:17<00:00, 89.02it/s]\n",
      "100%|██████████| 3263/3263 [00:37<00:00, 87.87it/s]\n",
      "100%|██████████| 3263/3263 [00:36<00:00, 88.81it/s]\n"
     ]
    }
   ],
   "source": [
    "train_strat1 = strat1_dataloader(train_loader_d1_strat1, d1_train)\n",
    "val_strat1 = strat1_dataloader(val_loader_d1_strat1, d1_val)\n",
    "test_strat1 = strat1_dataloader(test_loader_d1_strat1, d1_test)"
   ]
  },
  {
   "cell_type": "code",
   "execution_count": 62,
   "metadata": {
    "colab": {
     "base_uri": "https://localhost:8080/"
    },
    "execution": {
     "iopub.execute_input": "2023-04-16T08:05:23.434542Z",
     "iopub.status.busy": "2023-04-16T08:05:23.434065Z",
     "iopub.status.idle": "2023-04-16T08:05:35.716777Z",
     "shell.execute_reply": "2023-04-16T08:05:35.715483Z",
     "shell.execute_reply.started": "2023-04-16T08:05:23.434501Z"
    },
    "id": "WL-lZbfeitY5",
    "outputId": "ee7747ba-98ba-4f2f-b03c-991726270201"
   },
   "outputs": [
    {
     "name": "stdout",
     "output_type": "stream",
     "text": [
      "F1 score on validation data: 0.7939949958298581\n"
     ]
    }
   ],
   "source": [
    "from sklearn.linear_model import LogisticRegression\n",
    "from sklearn.ensemble import RandomForestClassifier\n",
    "from sklearn.svm import SVC\n",
    "svc_clf = SVC(random_state=2023).fit(train_strat1, d1_train['target'].values)\n",
    "print(\"F1 score on validation data:\", f1_score(d1_val['target'].values, svc_clf.predict(val_strat1)))"
   ]
  },
  {
   "cell_type": "code",
   "execution_count": 63,
   "metadata": {
    "colab": {
     "base_uri": "https://localhost:8080/"
    },
    "execution": {
     "iopub.execute_input": "2023-04-16T08:05:35.721053Z",
     "iopub.status.busy": "2023-04-16T08:05:35.720152Z",
     "iopub.status.idle": "2023-04-16T08:05:35.726165Z",
     "shell.execute_reply": "2023-04-16T08:05:35.724700Z",
     "shell.execute_reply.started": "2023-04-16T08:05:35.721014Z"
    },
    "id": "9kJJVpUiy2VB",
    "outputId": "be801155-a1ce-4a2f-c345-f3e8ce5b29ed"
   },
   "outputs": [],
   "source": [
    "import joblib\n",
    "# joblib.dump(svc_clf, './svc_v1.pkl')"
   ]
  },
  {
   "cell_type": "code",
   "execution_count": 64,
   "metadata": {
    "execution": {
     "iopub.execute_input": "2023-04-16T08:05:35.728530Z",
     "iopub.status.busy": "2023-04-16T08:05:35.728128Z",
     "iopub.status.idle": "2023-04-16T08:05:41.869112Z",
     "shell.execute_reply": "2023-04-16T08:05:41.868065Z",
     "shell.execute_reply.started": "2023-04-16T08:05:35.728492Z"
    },
    "id": "u8fi2jCRyWBj"
   },
   "outputs": [],
   "source": [
    "# get prediction on d1 test set\n",
    "d1_test_strategy1 = d1_test.copy()\n",
    "d1_test_strategy1['target'] = svc_clf.predict(test_strat1).astype(int)"
   ]
  },
  {
   "cell_type": "code",
   "execution_count": 65,
   "metadata": {
    "execution": {
     "iopub.execute_input": "2023-04-16T08:05:41.871689Z",
     "iopub.status.busy": "2023-04-16T08:05:41.870648Z",
     "iopub.status.idle": "2023-04-16T08:05:41.877193Z",
     "shell.execute_reply": "2023-04-16T08:05:41.875899Z",
     "shell.execute_reply.started": "2023-04-16T08:05:41.871646Z"
    },
    "id": "Fe1rgqoh0oB9"
   },
   "outputs": [],
   "source": [
    "# d1_test_strategy1[['id', 'target']].to_csv(\"./team_whs_strat1.csv\", index=False)"
   ]
  },
  {
   "cell_type": "code",
   "execution_count": null,
   "metadata": {
    "id": "v1jEH8V-4Iou"
   },
   "outputs": [],
   "source": []
  },
  {
   "cell_type": "markdown",
   "metadata": {
    "id": "bfZgwRmTLnCC"
   },
   "source": [
    "## Strategy 2"
   ]
  },
  {
   "cell_type": "markdown",
   "metadata": {
    "id": "_oRhMPaov46m"
   },
   "source": [
    "**In this strategy, I have added my own preprocessing method where I clean the text and add a count vectorizer to tokenize the text,with this I would train 10 weakly trained classifiers that are trained on 10% of the training set each. Each model trains on 10% of the data that is exclusive to that model, this is to prevent data leakage. The idea here is that each model learns specific characteristics from the data and combined they add to the predictions of the voting classifier which gets the predictions based on a soft vote meaning it looks at the prediction probabilities from each model and makes a prediction.**\n",
    "\n",
    "**This strategy is expected to work because it does not look at one model but several models trained on a subset of the training data and combines their predictions without necessarily overrelying on one model.**"
   ]
  },
  {
   "cell_type": "code",
   "execution_count": 66,
   "metadata": {
    "execution": {
     "iopub.execute_input": "2023-04-16T08:05:41.879733Z",
     "iopub.status.busy": "2023-04-16T08:05:41.879301Z",
     "iopub.status.idle": "2023-04-16T08:05:42.048007Z",
     "shell.execute_reply": "2023-04-16T08:05:42.046823Z",
     "shell.execute_reply.started": "2023-04-16T08:05:41.879696Z"
    },
    "id": "8_3NCI3SzE2i"
   },
   "outputs": [],
   "source": [
    "import re\n",
    "from bs4 import BeautifulSoup\n",
    "from sklearn.feature_extraction.text import CountVectorizer"
   ]
  },
  {
   "cell_type": "code",
   "execution_count": 67,
   "metadata": {
    "colab": {
     "base_uri": "https://localhost:8080/"
    },
    "execution": {
     "iopub.execute_input": "2023-04-16T08:05:42.050336Z",
     "iopub.status.busy": "2023-04-16T08:05:42.049552Z",
     "iopub.status.idle": "2023-04-16T08:05:44.643717Z",
     "shell.execute_reply": "2023-04-16T08:05:44.642636Z",
     "shell.execute_reply.started": "2023-04-16T08:05:42.050304Z"
    },
    "id": "Qw1mceRR3TIG",
    "outputId": "3b2714a5-d7f2-42bd-85e0-517610deedf5"
   },
   "outputs": [
    {
     "name": "stderr",
     "output_type": "stream",
     "text": [
      "/opt/conda/lib/python3.7/site-packages/bs4/__init__.py:439: MarkupResemblesLocatorWarning: The input looks more like a filename than markup. You may want to open this file and pass the filehandle into Beautiful Soup.\n",
      "  MarkupResemblesLocatorWarning\n"
     ]
    }
   ],
   "source": [
    "def text_clean( raw_text ):\n",
    "    # Function to convert a raw review to a string of words\n",
    "    # The input is a single string (a raw movie review), and \n",
    "    # the output is a single string (a preprocessed movie review)\n",
    "    #\n",
    "    # 1. Remove HTML\n",
    "    review_text = BeautifulSoup(raw_text).get_text() \n",
    "    # 2. Only keep letters\n",
    "    letters_only = re.sub(\"[^a-zA-Z]\", \" \", raw_text) \n",
    "    # 3. Convert to lower case, split into individual words\n",
    "    words = letters_only.lower().split()                             \n",
    "    return ' '.join(words)\n",
    "\n",
    "vectorizer = CountVectorizer()\n",
    "X_train_strat2 = vectorizer.fit_transform(d1_train['text'].apply(text_clean))\n",
    "X_val_strat2 = vectorizer.transform(d1_val['text'].apply(text_clean))\n",
    "X_test_strat2 = vectorizer.transform(d1_test['text'].apply(text_clean))"
   ]
  },
  {
   "cell_type": "code",
   "execution_count": 68,
   "metadata": {
    "execution": {
     "iopub.execute_input": "2023-04-16T08:05:44.645563Z",
     "iopub.status.busy": "2023-04-16T08:05:44.645176Z",
     "iopub.status.idle": "2023-04-16T08:05:44.651112Z",
     "shell.execute_reply": "2023-04-16T08:05:44.649307Z",
     "shell.execute_reply.started": "2023-04-16T08:05:44.645524Z"
    },
    "id": "VUX4p1u_0mr8"
   },
   "outputs": [],
   "source": [
    "from sklearn.ensemble import VotingClassifier"
   ]
  },
  {
   "cell_type": "code",
   "execution_count": 69,
   "metadata": {
    "colab": {
     "base_uri": "https://localhost:8080/"
    },
    "execution": {
     "iopub.execute_input": "2023-04-16T08:05:44.654004Z",
     "iopub.status.busy": "2023-04-16T08:05:44.653205Z",
     "iopub.status.idle": "2023-04-16T08:06:06.710745Z",
     "shell.execute_reply": "2023-04-16T08:06:06.707442Z",
     "shell.execute_reply.started": "2023-04-16T08:05:44.653966Z"
    },
    "id": "dhGQbjJs1pUl",
    "outputId": "30d9ce47-d283-482e-cde9-41b05433747e"
   },
   "outputs": [
    {
     "name": "stderr",
     "output_type": "stream",
     "text": [
      "100%|██████████| 10/10 [00:12<00:00,  1.25s/it]\n"
     ]
    },
    {
     "name": "stdout",
     "output_type": "stream",
     "text": [
      "F1 score on validation data: 0.7658175842235004\n"
     ]
    }
   ],
   "source": [
    "parts = 10\n",
    "X_train_parts = np.array_split(X_train_strat2.A, parts)\n",
    "y_train_parts = np.array_split(d1_train['target'].values, parts)\n",
    "\n",
    "trained_models = []\n",
    "for i in tqdm(range(parts)):\n",
    "    lr_clf_model = LogisticRegression(max_iter=10000, random_state=2023).fit(X_train_parts[i], y_train_parts[i])\n",
    "    trained_models.append((f'model{i}', lr_clf_model))\n",
    "\n",
    "voting_clf = VotingClassifier(estimators = trained_models, voting='soft')\n",
    "voting_clf.fit(X_train_strat2, d1_train['target'].values)\n",
    "print(\"F1 score on validation data:\", f1_score(d1_val['target'].values, voting_clf.predict(X_val_strat2)))"
   ]
  },
  {
   "cell_type": "code",
   "execution_count": 70,
   "metadata": {
    "colab": {
     "base_uri": "https://localhost:8080/"
    },
    "execution": {
     "iopub.execute_input": "2023-04-16T08:06:06.712839Z",
     "iopub.status.busy": "2023-04-16T08:06:06.712446Z",
     "iopub.status.idle": "2023-04-16T08:06:06.720193Z",
     "shell.execute_reply": "2023-04-16T08:06:06.718430Z",
     "shell.execute_reply.started": "2023-04-16T08:06:06.712796Z"
    },
    "id": "qY1MFLZz8lVJ",
    "outputId": "9efbd825-d8bc-4c07-a655-7dab404a12e6"
   },
   "outputs": [],
   "source": [
    "import joblib\n",
    "# joblib.dump(voting_clf, './voting_clf.pkl')"
   ]
  },
  {
   "cell_type": "code",
   "execution_count": 71,
   "metadata": {
    "execution": {
     "iopub.execute_input": "2023-04-16T08:06:06.722351Z",
     "iopub.status.busy": "2023-04-16T08:06:06.721755Z",
     "iopub.status.idle": "2023-04-16T08:06:06.755046Z",
     "shell.execute_reply": "2023-04-16T08:06:06.753559Z",
     "shell.execute_reply.started": "2023-04-16T08:06:06.722309Z"
    },
    "id": "jJMP1Iu99cOF"
   },
   "outputs": [],
   "source": [
    "# get prediction on d1 test set\n",
    "d1_test_strategy2 = d1_test.copy()\n",
    "d1_test_strategy2['target'] = voting_clf.predict(X_test_strat2).astype(int)"
   ]
  },
  {
   "cell_type": "code",
   "execution_count": 72,
   "metadata": {
    "execution": {
     "iopub.execute_input": "2023-04-16T08:06:06.756912Z",
     "iopub.status.busy": "2023-04-16T08:06:06.756563Z",
     "iopub.status.idle": "2023-04-16T08:06:06.763965Z",
     "shell.execute_reply": "2023-04-16T08:06:06.762129Z",
     "shell.execute_reply.started": "2023-04-16T08:06:06.756874Z"
    },
    "id": "CD3RkOxR-x4_"
   },
   "outputs": [],
   "source": [
    "# d1_test_strategy2[['id', 'target']].to_csv(\"./team_whs_strat2.csv\", index=False)"
   ]
  },
  {
   "cell_type": "code",
   "execution_count": null,
   "metadata": {
    "id": "F5AoQHaW-4uv"
   },
   "outputs": [],
   "source": []
  }
 ],
 "metadata": {
  "accelerator": "GPU",
  "colab": {
   "provenance": []
  },
  "gpuClass": "standard",
  "kernelspec": {
   "display_name": "Python 3 (ipykernel)",
   "language": "python",
   "name": "python3"
  },
  "language_info": {
   "codemirror_mode": {
    "name": "ipython",
    "version": 3
   },
   "file_extension": ".py",
   "mimetype": "text/x-python",
   "name": "python",
   "nbconvert_exporter": "python",
   "pygments_lexer": "ipython3",
   "version": "3.10.9"
  }
 },
 "nbformat": 4,
 "nbformat_minor": 4
}
